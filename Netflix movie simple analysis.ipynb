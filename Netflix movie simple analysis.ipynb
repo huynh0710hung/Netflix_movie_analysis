{
 "cells": [
  {
   "cell_type": "markdown",
   "id": "9638f853",
   "metadata": {},
   "source": [
    "### Import library"
   ]
  },
  {
   "cell_type": "code",
   "execution_count": 1,
   "id": "f87ee8df",
   "metadata": {},
   "outputs": [],
   "source": [
    "import pandas as pd\n",
    "import matplotlib.pyplot as plt\n",
    "import numpy as np\n",
    "import seaborn as sns\n",
    "from collections import Counter\n",
    "import datetime\n",
    "from sklearn.metrics.pairwise import cosine_similarity"
   ]
  },
  {
   "cell_type": "code",
   "execution_count": 2,
   "id": "3ec3847e",
   "metadata": {},
   "outputs": [
    {
     "data": {
      "text/html": [
       "<div>\n",
       "<style scoped>\n",
       "    .dataframe tbody tr th:only-of-type {\n",
       "        vertical-align: middle;\n",
       "    }\n",
       "\n",
       "    .dataframe tbody tr th {\n",
       "        vertical-align: top;\n",
       "    }\n",
       "\n",
       "    .dataframe thead th {\n",
       "        text-align: right;\n",
       "    }\n",
       "</style>\n",
       "<table border=\"1\" class=\"dataframe\">\n",
       "  <thead>\n",
       "    <tr style=\"text-align: right;\">\n",
       "      <th></th>\n",
       "      <th>show_id</th>\n",
       "      <th>type</th>\n",
       "      <th>title</th>\n",
       "      <th>director</th>\n",
       "      <th>cast</th>\n",
       "      <th>country</th>\n",
       "      <th>date_added</th>\n",
       "      <th>release_year</th>\n",
       "      <th>rating</th>\n",
       "      <th>duration</th>\n",
       "      <th>listed_in</th>\n",
       "      <th>description</th>\n",
       "    </tr>\n",
       "  </thead>\n",
       "  <tbody>\n",
       "    <tr>\n",
       "      <th>0</th>\n",
       "      <td>81145628</td>\n",
       "      <td>Movie</td>\n",
       "      <td>Norm of the North: King Sized Adventure</td>\n",
       "      <td>Richard Finn, Tim Maltby</td>\n",
       "      <td>Alan Marriott, Andrew Toth, Brian Dobson, Cole...</td>\n",
       "      <td>United States, India, South Korea, China</td>\n",
       "      <td>September 9, 2019</td>\n",
       "      <td>2019</td>\n",
       "      <td>TV-PG</td>\n",
       "      <td>90 min</td>\n",
       "      <td>Children &amp; Family Movies, Comedies</td>\n",
       "      <td>Before planning an awesome wedding for his gra...</td>\n",
       "    </tr>\n",
       "    <tr>\n",
       "      <th>1</th>\n",
       "      <td>80117401</td>\n",
       "      <td>Movie</td>\n",
       "      <td>Jandino: Whatever it Takes</td>\n",
       "      <td>NaN</td>\n",
       "      <td>Jandino Asporaat</td>\n",
       "      <td>United Kingdom</td>\n",
       "      <td>September 9, 2016</td>\n",
       "      <td>2016</td>\n",
       "      <td>TV-MA</td>\n",
       "      <td>94 min</td>\n",
       "      <td>Stand-Up Comedy</td>\n",
       "      <td>Jandino Asporaat riffs on the challenges of ra...</td>\n",
       "    </tr>\n",
       "    <tr>\n",
       "      <th>2</th>\n",
       "      <td>70234439</td>\n",
       "      <td>TV Show</td>\n",
       "      <td>Transformers Prime</td>\n",
       "      <td>NaN</td>\n",
       "      <td>Peter Cullen, Sumalee Montano, Frank Welker, J...</td>\n",
       "      <td>United States</td>\n",
       "      <td>September 8, 2018</td>\n",
       "      <td>2013</td>\n",
       "      <td>TV-Y7-FV</td>\n",
       "      <td>1 Season</td>\n",
       "      <td>Kids' TV</td>\n",
       "      <td>With the help of three human allies, the Autob...</td>\n",
       "    </tr>\n",
       "    <tr>\n",
       "      <th>3</th>\n",
       "      <td>80058654</td>\n",
       "      <td>TV Show</td>\n",
       "      <td>Transformers: Robots in Disguise</td>\n",
       "      <td>NaN</td>\n",
       "      <td>Will Friedle, Darren Criss, Constance Zimmer, ...</td>\n",
       "      <td>United States</td>\n",
       "      <td>September 8, 2018</td>\n",
       "      <td>2016</td>\n",
       "      <td>TV-Y7</td>\n",
       "      <td>1 Season</td>\n",
       "      <td>Kids' TV</td>\n",
       "      <td>When a prison ship crash unleashes hundreds of...</td>\n",
       "    </tr>\n",
       "    <tr>\n",
       "      <th>4</th>\n",
       "      <td>80125979</td>\n",
       "      <td>Movie</td>\n",
       "      <td>#realityhigh</td>\n",
       "      <td>Fernando Lebrija</td>\n",
       "      <td>Nesta Cooper, Kate Walsh, John Michael Higgins...</td>\n",
       "      <td>United States</td>\n",
       "      <td>September 8, 2017</td>\n",
       "      <td>2017</td>\n",
       "      <td>TV-14</td>\n",
       "      <td>99 min</td>\n",
       "      <td>Comedies</td>\n",
       "      <td>When nerdy high schooler Dani finally attracts...</td>\n",
       "    </tr>\n",
       "  </tbody>\n",
       "</table>\n",
       "</div>"
      ],
      "text/plain": [
       "    show_id     type                                    title  \\\n",
       "0  81145628    Movie  Norm of the North: King Sized Adventure   \n",
       "1  80117401    Movie               Jandino: Whatever it Takes   \n",
       "2  70234439  TV Show                       Transformers Prime   \n",
       "3  80058654  TV Show         Transformers: Robots in Disguise   \n",
       "4  80125979    Movie                             #realityhigh   \n",
       "\n",
       "                   director  \\\n",
       "0  Richard Finn, Tim Maltby   \n",
       "1                       NaN   \n",
       "2                       NaN   \n",
       "3                       NaN   \n",
       "4          Fernando Lebrija   \n",
       "\n",
       "                                                cast  \\\n",
       "0  Alan Marriott, Andrew Toth, Brian Dobson, Cole...   \n",
       "1                                   Jandino Asporaat   \n",
       "2  Peter Cullen, Sumalee Montano, Frank Welker, J...   \n",
       "3  Will Friedle, Darren Criss, Constance Zimmer, ...   \n",
       "4  Nesta Cooper, Kate Walsh, John Michael Higgins...   \n",
       "\n",
       "                                    country         date_added  release_year  \\\n",
       "0  United States, India, South Korea, China  September 9, 2019          2019   \n",
       "1                            United Kingdom  September 9, 2016          2016   \n",
       "2                             United States  September 8, 2018          2013   \n",
       "3                             United States  September 8, 2018          2016   \n",
       "4                             United States  September 8, 2017          2017   \n",
       "\n",
       "     rating  duration                           listed_in  \\\n",
       "0     TV-PG    90 min  Children & Family Movies, Comedies   \n",
       "1     TV-MA    94 min                     Stand-Up Comedy   \n",
       "2  TV-Y7-FV  1 Season                            Kids' TV   \n",
       "3     TV-Y7  1 Season                            Kids' TV   \n",
       "4     TV-14    99 min                            Comedies   \n",
       "\n",
       "                                         description  \n",
       "0  Before planning an awesome wedding for his gra...  \n",
       "1  Jandino Asporaat riffs on the challenges of ra...  \n",
       "2  With the help of three human allies, the Autob...  \n",
       "3  When a prison ship crash unleashes hundreds of...  \n",
       "4  When nerdy high schooler Dani finally attracts...  "
      ]
     },
     "execution_count": 2,
     "metadata": {},
     "output_type": "execute_result"
    }
   ],
   "source": [
    "## Import data\n",
    "df_movies=pd.read_csv(\"./netflix_titles.csv\")\n",
    "df_movies.head()"
   ]
  },
  {
   "cell_type": "markdown",
   "id": "61d3e3d9",
   "metadata": {},
   "source": [
    "### Data preparation"
   ]
  },
  {
   "cell_type": "code",
   "execution_count": 3,
   "id": "42d191c5",
   "metadata": {},
   "outputs": [
    {
     "name": "stdout",
     "output_type": "stream",
     "text": [
      "The dataframe has 6234 rows and 12 columns.\n"
     ]
    }
   ],
   "source": [
    "n_rows,n_cols=df_movies.shape\n",
    "print(f'The dataframe has {n_rows} rows and {n_cols} columns.')"
   ]
  },
  {
   "cell_type": "markdown",
   "id": "bbe0fdff",
   "metadata": {},
   "source": [
    "Check if show_ids are unique to one another "
   ]
  },
  {
   "cell_type": "code",
   "execution_count": 4,
   "id": "e7e4f233",
   "metadata": {},
   "outputs": [],
   "source": [
    "assert(len(df_movies['show_id'].unique())==n_rows)"
   ]
  },
  {
   "cell_type": "markdown",
   "id": "0b835ce3",
   "metadata": {},
   "source": [
    "Check if column data types are consistent"
   ]
  },
  {
   "cell_type": "code",
   "execution_count": 5,
   "id": "4324d790",
   "metadata": {},
   "outputs": [
    {
     "name": "stdout",
     "output_type": "stream",
     "text": [
      "Data type of column         show_id: {<class 'int'>}\n",
      "Data type of column            type: {<class 'str'>}\n",
      "Data type of column           title: {<class 'str'>}\n",
      "Data type of column        director: {<class 'str'>, <class 'float'>}\n",
      "Data type of column            cast: {<class 'str'>, <class 'float'>}\n",
      "Data type of column         country: {<class 'str'>, <class 'float'>}\n",
      "Data type of column      date_added: {<class 'str'>, <class 'float'>}\n",
      "Data type of column    release_year: {<class 'int'>}\n",
      "Data type of column          rating: {<class 'str'>, <class 'float'>}\n",
      "Data type of column        duration: {<class 'str'>}\n",
      "Data type of column       listed_in: {<class 'str'>}\n",
      "Data type of column     description: {<class 'str'>}\n"
     ]
    }
   ],
   "source": [
    "def col_dtype(s):\n",
    "    \n",
    "    dtypes = set(s.apply(type))\n",
    "    \n",
    "    return dtypes\n",
    "\n",
    "for col in df_movies.columns:\n",
    "    print(\"Data type of column %15s: %s\" % (col, col_dtype(df_movies[col])))"
   ]
  },
  {
   "cell_type": "markdown",
   "id": "3e68ca61",
   "metadata": {},
   "source": [
    "Comments about shown column data types:<br>\n",
    "\n",
    "<li><code>country</code> and <code>rating</code> columns are in both <code>str</code> and <code>float</code> type, to unify into <code>str</code>\n",
    "<li><code>date_added</code> are in both <code>str</code> and <code>float</code> type, but will convert into <code>datetime</code>\n",
    "<li><code>director</code> and <code>cast</code> are also in <code>str</code> and <code>float</code> I will convert into <code>str</code> and then <code>array</code> since they contain different combined values<br>\n",
    "<li><code>listed in</code> is in <code>str</code> but its values are combined, to convert into <code>array</code>\n",
    "<li><code>duration</code> is <code>str</code> but it is a measurement\n",
    "<li>Most likely <code>float</code> values in category columns such as <code>director</code> <code>cast</code> <code>country</code> etc is caused by <code>nan</code>\n"
   ]
  },
  {
   "cell_type": "markdown",
   "id": "4c6cbd90",
   "metadata": {},
   "source": [
    "### Handle column Title"
   ]
  },
  {
   "cell_type": "markdown",
   "id": "1ead5d7d",
   "metadata": {},
   "source": [
    "Column Title data are in the format of <code>(Movie name):(Episode)</code>. I will process to split them into prefix and postfix"
   ]
  },
  {
   "cell_type": "code",
   "execution_count": 6,
   "id": "2fd34a43",
   "metadata": {},
   "outputs": [
    {
     "data": {
      "text/plain": [
       "NOVA                        19\n",
       "Monster High                12\n",
       "Trailer Park Boys            9\n",
       "ReMastered                   8\n",
       "Krish Trish and Baltiboy     8\n",
       "                            ..\n",
       "Sacred Games                 1\n",
       "Caught on Camera             1\n",
       "The 100                      1\n",
       "Age of Glory                 1\n",
       "Friends                      1\n",
       "Name: title_prefix, Length: 5854, dtype: int64"
      ]
     },
     "execution_count": 6,
     "metadata": {},
     "output_type": "execute_result"
    }
   ],
   "source": [
    "df_movies['title_prefix']=df_movies['title'].apply(lambda x:x[:x.find(\":\")] if x.find(\":\")>=0 else x)\n",
    "df_movies['title_postfix']=df_movies['title'].apply(lambda x:x[x.find(\":\")+1:] if x.find(\":\")>=0 else np.nan)\n",
    "\n",
    "##Check for title_prefix values\n",
    "df_movies.title_prefix.value_counts().sort_values(ascending=False)"
   ]
  },
  {
   "cell_type": "markdown",
   "id": "4458ce92",
   "metadata": {},
   "source": [
    "### Handle column Director"
   ]
  },
  {
   "cell_type": "markdown",
   "id": "967ff84f",
   "metadata": {},
   "source": [
    "Column Director data contain values seperated by comma <code>,</code>. To transform into array"
   ]
  },
  {
   "cell_type": "code",
   "execution_count": 7,
   "id": "69a14048",
   "metadata": {},
   "outputs": [
    {
     "data": {
      "text/plain": [
       "0    [Richard Finn, Tim Maltby]\n",
       "1                         [nan]\n",
       "2                         [nan]\n",
       "3                         [nan]\n",
       "4            [Fernando Lebrija]\n",
       "Name: director, dtype: object"
      ]
     },
     "execution_count": 7,
     "metadata": {},
     "output_type": "execute_result"
    }
   ],
   "source": [
    "df_movies['director']=df_movies['director'].apply(lambda x:str(x).split(\", \"))\n",
    "df_movies['director'].head()"
   ]
  },
  {
   "cell_type": "markdown",
   "id": "d83847ff",
   "metadata": {},
   "source": [
    "For movies that are without Director info, replace <code>nan</code> with <code>Null</code> array"
   ]
  },
  {
   "cell_type": "code",
   "execution_count": 8,
   "id": "b912b65b",
   "metadata": {},
   "outputs": [
    {
     "data": {
      "text/plain": [
       "0    [Richard Finn, Tim Maltby]\n",
       "1                            []\n",
       "2                            []\n",
       "3                            []\n",
       "4            [Fernando Lebrija]\n",
       "Name: director, dtype: object"
      ]
     },
     "execution_count": 8,
     "metadata": {},
     "output_type": "execute_result"
    }
   ],
   "source": [
    "df_movies['director']=df_movies['director'].apply(lambda x:[] if str(x)==\"['nan']\" else x)\n",
    "df_movies['director'].head()"
   ]
  },
  {
   "cell_type": "markdown",
   "id": "6f37196c",
   "metadata": {},
   "source": [
    "### Handle column Cast"
   ]
  },
  {
   "cell_type": "markdown",
   "id": "6996a007",
   "metadata": {},
   "source": [
    "Similar to column Director, however column Cast data seperated by a comma and a space <code>, </code>"
   ]
  },
  {
   "cell_type": "code",
   "execution_count": 9,
   "id": "dc539d03",
   "metadata": {},
   "outputs": [
    {
     "data": {
      "text/plain": [
       "0    Alan Marriott, Andrew Toth, Brian Dobson, Cole...\n",
       "1                                     Jandino Asporaat\n",
       "2    Peter Cullen, Sumalee Montano, Frank Welker, J...\n",
       "3    Will Friedle, Darren Criss, Constance Zimmer, ...\n",
       "4    Nesta Cooper, Kate Walsh, John Michael Higgins...\n",
       "Name: cast, dtype: object"
      ]
     },
     "execution_count": 9,
     "metadata": {},
     "output_type": "execute_result"
    }
   ],
   "source": [
    "df_movies['cast'].head()"
   ]
  },
  {
   "cell_type": "code",
   "execution_count": 10,
   "id": "fa79109c",
   "metadata": {},
   "outputs": [
    {
     "data": {
      "text/plain": [
       "0    [Alan Marriott, Andrew Toth, Brian Dobson, Col...\n",
       "1                                   [Jandino Asporaat]\n",
       "2    [Peter Cullen, Sumalee Montano, Frank Welker, ...\n",
       "3    [Will Friedle, Darren Criss, Constance Zimmer,...\n",
       "4    [Nesta Cooper, Kate Walsh, John Michael Higgin...\n",
       "Name: cast, dtype: object"
      ]
     },
     "execution_count": 10,
     "metadata": {},
     "output_type": "execute_result"
    }
   ],
   "source": [
    "df_movies['cast']=df_movies['cast'].apply(lambda x:str(x).split(\", \"))\n",
    "\n",
    "#replace nan with Null array\n",
    "df_movies['cast']=df_movies['cast'].apply(lambda x:[] if str(x)==\"['nan']\" else x)\n",
    "df_movies['cast'].head()"
   ]
  },
  {
   "cell_type": "markdown",
   "id": "1e969d83",
   "metadata": {},
   "source": [
    "### Handle column Duration"
   ]
  },
  {
   "cell_type": "markdown",
   "id": "69c2f732",
   "metadata": {},
   "source": [
    "Column Duration data has 2 format type, that is either season or minutes, these could belong to 2 types that is TV show and movie.<br>\n",
    "I will test this out by compare numbers of movie types and duration type\n",
    "\n"
   ]
  },
  {
   "cell_type": "code",
   "execution_count": 11,
   "id": "9e80b21e",
   "metadata": {},
   "outputs": [
    {
     "data": {
      "text/plain": [
       "Movie      4265\n",
       "TV Show    1969\n",
       "Name: type, dtype: int64"
      ]
     },
     "execution_count": 11,
     "metadata": {},
     "output_type": "execute_result"
    }
   ],
   "source": [
    "#Count of Types: Movie and TV Show\n",
    "df_movies['type'].value_counts()"
   ]
  },
  {
   "cell_type": "code",
   "execution_count": 12,
   "id": "2e45354e",
   "metadata": {},
   "outputs": [
    {
     "data": {
      "text/plain": [
       "True     4265\n",
       "False    1969\n",
       "Name: duration, dtype: int64"
      ]
     },
     "execution_count": 12,
     "metadata": {},
     "output_type": "execute_result"
    }
   ],
   "source": [
    "#Count of data contain 'min' in column Duration\n",
    "df_movies['duration'].str.contains('min', na=False).value_counts()"
   ]
  },
  {
   "cell_type": "markdown",
   "id": "9ae66a85",
   "metadata": {},
   "source": [
    "Doing the same for <code>season</code> also receive similar result, so we can conclude our theory <br>\n",
    "Since the <code>duration</code> data format is not consistent, we will split into 2 columns that are <code>season</code> into season number, and <code>min</code> into minute number. Only the value will be kept<br>\n",
    "This will help with other upcoming calculation and sorting"
   ]
  },
  {
   "cell_type": "code",
   "execution_count": 13,
   "id": "001c8802",
   "metadata": {},
   "outputs": [],
   "source": [
    "##Create 'min' and 'season' columns, then remove time unit\n",
    "df_movies['min']=df_movies['duration'][df_movies['duration'].apply(lambda x:x.find(\"min\")>=0)]\n",
    "df_movies['min']=pd.to_numeric(df_movies['min'].apply(lambda x:x[:-4] if pd.notnull(x) else np.nan), errors='coerce').convert_dtypes() \n",
    "\n",
    "df_movies['season']=df_movies['duration'][df_movies['duration'].apply(lambda x:x.find(\"Season\")>=0)]\n",
    "df_movies['season']=pd.to_numeric(df_movies['season'].apply(lambda x:x.replace('Seasons','').replace('Season','') if pd.notnull(x) else np.nan).convert_dtypes(), errors='coerce').convert_dtypes() "
   ]
  },
  {
   "cell_type": "markdown",
   "id": "db8e2a3d",
   "metadata": {},
   "source": [
    "### Handle column Listed_in"
   ]
  },
  {
   "cell_type": "markdown",
   "id": "21d6f4ea",
   "metadata": {},
   "source": [
    "Convert the column into arrays, then list out movie cateogory"
   ]
  },
  {
   "cell_type": "code",
   "execution_count": 14,
   "id": "aa8a7b7a",
   "metadata": {},
   "outputs": [
    {
     "data": {
      "text/plain": [
       "0    [Children & Family Movies, Comedies]\n",
       "1                       [Stand-Up Comedy]\n",
       "2                              [Kids' TV]\n",
       "3                              [Kids' TV]\n",
       "4                              [Comedies]\n",
       "Name: listed_in_array, dtype: object"
      ]
     },
     "execution_count": 14,
     "metadata": {},
     "output_type": "execute_result"
    }
   ],
   "source": [
    "df_movies['listed_in_array']=df_movies['listed_in'].apply(lambda x:str(x).split(\", \"))\n",
    "df_movies['listed_in_array'].head()"
   ]
  },
  {
   "cell_type": "code",
   "execution_count": 15,
   "id": "20db3081",
   "metadata": {},
   "outputs": [
    {
     "data": {
      "text/plain": [
       "array(['Action & Adventure', 'Anime Features', 'Anime Series',\n",
       "       'British TV Shows', 'Children & Family Movies',\n",
       "       'Classic & Cult TV', 'Classic Movies', 'Comedies',\n",
       "       'Crime TV Shows', 'Cult Movies', 'Documentaries', 'Docuseries',\n",
       "       'Dramas', 'Faith & Spirituality', 'Horror Movies',\n",
       "       'Independent Movies', 'International Movies',\n",
       "       'International TV Shows', \"Kids' TV\", 'Korean TV Shows',\n",
       "       'LGBTQ Movies', 'Movies', 'Music & Musicals', 'Reality TV',\n",
       "       'Romantic Movies', 'Romantic TV Shows', 'Sci-Fi & Fantasy',\n",
       "       'Science & Nature TV', 'Spanish-Language TV Shows',\n",
       "       'Sports Movies', 'Stand-Up Comedy', 'Stand-Up Comedy & Talk Shows',\n",
       "       'TV Action & Adventure', 'TV Comedies', 'TV Dramas', 'TV Horror',\n",
       "       'TV Mysteries', 'TV Sci-Fi & Fantasy', 'TV Shows', 'TV Thrillers',\n",
       "       'Teen TV Shows', 'Thrillers'], dtype='<U28')"
      ]
     },
     "execution_count": 15,
     "metadata": {},
     "output_type": "execute_result"
    }
   ],
   "source": [
    "np.unique(df_movies['listed_in_array'].sum())"
   ]
  },
  {
   "cell_type": "markdown",
   "id": "2fe038fd",
   "metadata": {},
   "source": [
    "There are similar categories such as <code>Comedies</code> and <code>TV Comedies</code>, <code>Classic & Cult TV</code> and  <code>Classic Movies'/'Cult Movies</code>.<br>\n",
    "This could be of different movie types, as for <code>Movie</code> and <code>TV Show</code>"
   ]
  },
  {
   "cell_type": "code",
   "execution_count": 16,
   "id": "05549850",
   "metadata": {},
   "outputs": [
    {
     "data": {
      "text/plain": [
       "False    4341\n",
       "True     1893\n",
       "Name: listed_in, dtype: int64"
      ]
     },
     "execution_count": 16,
     "metadata": {},
     "output_type": "execute_result"
    }
   ],
   "source": [
    "##Check if every category with 'TV' is actually 'TV Show' type\n",
    "df_movies['listed_in'].str.contains('TV', na=False).value_counts()"
   ]
  },
  {
   "cell_type": "code",
   "execution_count": 17,
   "id": "faaafe14",
   "metadata": {},
   "outputs": [
    {
     "name": "stdout",
     "output_type": "stream",
     "text": [
      "There are 1969 TV Shows\n"
     ]
    }
   ],
   "source": [
    "print('There are',len(df_movies[df_movies['type']=='TV Show']), 'TV Shows')"
   ]
  },
  {
   "cell_type": "code",
   "execution_count": 18,
   "id": "c6425b73",
   "metadata": {},
   "outputs": [
    {
     "data": {
      "text/plain": [
       "0"
      ]
     },
     "execution_count": 18,
     "metadata": {},
     "output_type": "execute_result"
    }
   ],
   "source": [
    "##Check if any type that is not 'TV Show' is listed in 'TV'\n",
    "m=df_movies[df_movies['type']!='TV Show']\n",
    "sum(m['listed_in_array'].apply(lambda l:any(x.find(\"TV\")>=0 for x in l)))"
   ]
  },
  {
   "cell_type": "markdown",
   "id": "29325ce8",
   "metadata": {},
   "source": [
    "So it is safe to say that all movies listed as <code>TV</code> in their categories are actually <code>TV Shows</code>. <br>\n",
    "Now we can remove the <code>TV</code> in <code>listed_in</code> to simplify categories in those that has similar names, yet still able to know if one movie is series or not"
   ]
  },
  {
   "cell_type": "code",
   "execution_count": 19,
   "id": "7eee3942",
   "metadata": {},
   "outputs": [
    {
     "data": {
      "text/plain": [
       "['Action & Adventure', 'Sci-Fi & Fantasy', 'Dramas', 'Comedies', 'Thrillers']"
      ]
     },
     "execution_count": 19,
     "metadata": {},
     "output_type": "execute_result"
    }
   ],
   "source": [
    "#Array of category with 'TV' in it\n",
    "TV_listed=[a for a in np.unique(df_movies['listed_in_array'].sum()) if a.find(\"TV\")>=0]\n",
    "\n",
    "#Array of category with 'TV' in it that are removed 'TV'\n",
    "TV_listed_remove=[a.replace(\"TV \",\"\").replace(\"TV\",\"\") for a in TV_listed]\n",
    "\n",
    "#Array of category without 'TV'\n",
    "TV_listed_noTV=[a for a in np.unique(df_movies['listed_in_array'].sum()) if a.find(\"TV\")==-1]\n",
    "\n",
    "#List out category names that can replace\n",
    "to_replace_list=list(set(TV_listed_remove).intersection(TV_listed_noTV))\n",
    "to_replace_list"
   ]
  },
  {
   "cell_type": "code",
   "execution_count": 20,
   "id": "7408dce5",
   "metadata": {},
   "outputs": [
    {
     "data": {
      "text/plain": [
       "['TV Action & Adventure',\n",
       " 'TV Comedies',\n",
       " 'TV Dramas',\n",
       " 'TV Sci-Fi & Fantasy',\n",
       " 'TV Thrillers']"
      ]
     },
     "execution_count": 20,
     "metadata": {},
     "output_type": "execute_result"
    }
   ],
   "source": [
    "##Category to replace\n",
    "to_replace=[TV_listed[i] for i in [item[0] for item in enumerate(TV_listed_remove) if item[1] in to_replace_list]]\n",
    "\n",
    "to_replace"
   ]
  },
  {
   "cell_type": "code",
   "execution_count": 21,
   "id": "c7466249",
   "metadata": {},
   "outputs": [
    {
     "data": {
      "text/plain": [
       "{'TV Action & Adventure': 'Action & Adventure',\n",
       " 'TV Comedies': 'Comedies',\n",
       " 'TV Dramas': 'Dramas',\n",
       " 'TV Sci-Fi & Fantasy': 'Sci-Fi & Fantasy',\n",
       " 'TV Thrillers': 'Thrillers'}"
      ]
     },
     "execution_count": 21,
     "metadata": {},
     "output_type": "execute_result"
    }
   ],
   "source": [
    "##Create dict to map to replace categories with to be replaced categories\n",
    "replace_dict=dict((el,el.replace(\"TV \",\"\")) for el in to_replace)\n",
    "replace_dict"
   ]
  },
  {
   "cell_type": "code",
   "execution_count": 22,
   "id": "0297eece",
   "metadata": {},
   "outputs": [
    {
     "data": {
      "text/plain": [
       "array(['Action & Adventure', 'Anime Features', 'Anime Series',\n",
       "       'British TV Shows', 'Children & Family Movies',\n",
       "       'Classic & Cult TV', 'Classic Movies', 'Comedies',\n",
       "       'Crime TV Shows', 'Cult Movies', 'Documentaries', 'Docuseries',\n",
       "       'Dramas', 'Faith & Spirituality', 'Horror Movies',\n",
       "       'Independent Movies', 'International Movies',\n",
       "       'International TV Shows', \"Kids' TV\", 'Korean TV Shows',\n",
       "       'LGBTQ Movies', 'Movies', 'Music & Musicals', 'Reality TV',\n",
       "       'Romantic Movies', 'Romantic TV Shows', 'Sci-Fi & Fantasy',\n",
       "       'Science & Nature TV', 'Spanish-Language TV Shows',\n",
       "       'Sports Movies', 'Stand-Up Comedy', 'Stand-Up Comedy & Talk Shows',\n",
       "       'TV Horror', 'TV Mysteries', 'TV Shows', 'Teen TV Shows',\n",
       "       'Thrillers'], dtype='<U28')"
      ]
     },
     "execution_count": 22,
     "metadata": {},
     "output_type": "execute_result"
    }
   ],
   "source": [
    "##5 listed categories with 'TV' will be replaced with existed category names\n",
    "df_movies['listed_in_array']=df_movies['listed_in_array'].apply(lambda x:[replace_dict.get(i,i) for i in x])\n",
    "np.unique(df_movies['listed_in_array'].sum())"
   ]
  },
  {
   "cell_type": "markdown",
   "id": "6437fbf1",
   "metadata": {},
   "source": [
    "### Handle column Country"
   ]
  },
  {
   "cell_type": "code",
   "execution_count": 23,
   "id": "2995cc4f",
   "metadata": {},
   "outputs": [
    {
     "data": {
      "text/plain": [
       "United States                                    2032\n",
       "India                                             777\n",
       "United Kingdom                                    348\n",
       "Japan                                             176\n",
       "Canada                                            141\n",
       "                                                 ... \n",
       "India, Japan                                        1\n",
       "Norway, Germany, Sweden                             1\n",
       "United Kingdom, Canada, France, United States       1\n",
       "United Arab Emirates, Jordan                        1\n",
       "Cyprus, Austria, Thailand                           1\n",
       "Name: country, Length: 554, dtype: int64"
      ]
     },
     "execution_count": 23,
     "metadata": {},
     "output_type": "execute_result"
    }
   ],
   "source": [
    "df_movies['country'].value_counts()"
   ]
  },
  {
   "cell_type": "code",
   "execution_count": 24,
   "id": "3a55d7b6",
   "metadata": {},
   "outputs": [
    {
     "data": {
      "text/plain": [
       "0    [United States, India, South Korea, China]\n",
       "1                              [United Kingdom]\n",
       "2                               [United States]\n",
       "3                               [United States]\n",
       "4                               [United States]\n",
       "Name: country, dtype: object"
      ]
     },
     "execution_count": 24,
     "metadata": {},
     "output_type": "execute_result"
    }
   ],
   "source": [
    "##Convert into array \n",
    "df_movies['country']=df_movies['country'].apply(lambda x:str(x).split(\", \"))\n",
    "\n",
    "##Replace nan with Null array\n",
    "df_movies['country']=df_movies['country'].apply(lambda x:[] if str(x)==\"['nan']\" else x)\n",
    "df_movies['country'].head()"
   ]
  },
  {
   "cell_type": "markdown",
   "id": "28349578",
   "metadata": {},
   "source": [
    "### Handle column Date_add"
   ]
  },
  {
   "cell_type": "code",
   "execution_count": 25,
   "id": "8db92132",
   "metadata": {},
   "outputs": [
    {
     "data": {
      "text/plain": [
       "0      2019-09-09\n",
       "1      2016-09-09\n",
       "2      2018-09-08\n",
       "3      2018-09-08\n",
       "4      2017-09-08\n",
       "          ...    \n",
       "6229          NaT\n",
       "6230          NaT\n",
       "6231          NaT\n",
       "6232          NaT\n",
       "6233          NaT\n",
       "Name: date_added, Length: 6234, dtype: datetime64[ns]"
      ]
     },
     "execution_count": 25,
     "metadata": {},
     "output_type": "execute_result"
    }
   ],
   "source": [
    "df_movies['date_added']=pd.to_datetime(df_movies['date_added'])\n",
    "df_movies['date_added']"
   ]
  },
  {
   "cell_type": "markdown",
   "id": "ca317973",
   "metadata": {},
   "source": [
    "### Handle column Date_add"
   ]
  },
  {
   "cell_type": "markdown",
   "id": "fd08138c",
   "metadata": {},
   "source": [
    "Conver Date_add data type into <code>datetime</code>"
   ]
  },
  {
   "cell_type": "code",
   "execution_count": 26,
   "id": "45612c00",
   "metadata": {},
   "outputs": [
    {
     "data": {
      "text/plain": [
       "0      2019-09-09\n",
       "1      2016-09-09\n",
       "2      2018-09-08\n",
       "3      2018-09-08\n",
       "4      2017-09-08\n",
       "          ...    \n",
       "6229          NaT\n",
       "6230          NaT\n",
       "6231          NaT\n",
       "6232          NaT\n",
       "6233          NaT\n",
       "Name: date_added, Length: 6234, dtype: datetime64[ns]"
      ]
     },
     "execution_count": 26,
     "metadata": {},
     "output_type": "execute_result"
    }
   ],
   "source": [
    "df_movies['date_added']=pd.to_datetime(df_movies['date_added'])\n",
    "df_movies['date_added']"
   ]
  },
  {
   "cell_type": "markdown",
   "id": "8a8bca1a",
   "metadata": {},
   "source": [
    "### Handle missing values"
   ]
  },
  {
   "cell_type": "markdown",
   "id": "664c8f38",
   "metadata": {},
   "source": [
    "We will cross check missing values to see if it is feasible to replace with another value. However I will leave missing values in columns such as <code>director</code>,<code>cast</code>,<code>country</code> as it is, due to it will create bias if create another label for this.<br>\n",
    "The 2 columns seem find to be filled is <code>date_added</code> and <code>rating</code>"
   ]
  },
  {
   "cell_type": "code",
   "execution_count": 27,
   "id": "80c41279",
   "metadata": {},
   "outputs": [],
   "source": [
    "##Fill missing rating with its mode value.\n",
    "df_movies['rating']=df_movies['rating'].fillna(df_movies['rating'].mode()[0])"
   ]
  },
  {
   "cell_type": "code",
   "execution_count": 28,
   "id": "73ffd1a8",
   "metadata": {},
   "outputs": [
    {
     "data": {
      "text/plain": [
       "6223   2009-01-01\n",
       "6224   2019-01-01\n",
       "6225   2004-01-01\n",
       "6226   2013-01-01\n",
       "6227   2016-01-01\n",
       "6228   2011-01-01\n",
       "6229   2016-01-01\n",
       "6230   2017-01-01\n",
       "6231   2017-01-01\n",
       "6232   2014-01-01\n",
       "6233   2004-01-01\n",
       "Name: release_year, dtype: datetime64[ns]"
      ]
     },
     "execution_count": 28,
     "metadata": {},
     "output_type": "execute_result"
    }
   ],
   "source": [
    "##Fill missing date_add with avg year from release_year to date_added\n",
    "##Set day and month to 1/1\n",
    "df_movies.loc[df_movies['date_added'].isnull(),'release_year'].apply(lambda x:datetime.datetime(x+int((df_movies['date_added'].dt.year-df_movies['release_year']).median()),1,1))"
   ]
  },
  {
   "cell_type": "markdown",
   "id": "1968e8fd",
   "metadata": {},
   "source": [
    "### Data cleaning"
   ]
  },
  {
   "cell_type": "markdown",
   "id": "fff8f037",
   "metadata": {},
   "source": [
    "#### Check for the correlation between <code>date_added</code> and <code>release_year</code>"
   ]
  },
  {
   "cell_type": "code",
   "execution_count": 29,
   "id": "e58ed2f1",
   "metadata": {},
   "outputs": [
    {
     "data": {
      "text/html": [
       "<div>\n",
       "<style scoped>\n",
       "    .dataframe tbody tr th:only-of-type {\n",
       "        vertical-align: middle;\n",
       "    }\n",
       "\n",
       "    .dataframe tbody tr th {\n",
       "        vertical-align: top;\n",
       "    }\n",
       "\n",
       "    .dataframe thead th {\n",
       "        text-align: right;\n",
       "    }\n",
       "</style>\n",
       "<table border=\"1\" class=\"dataframe\">\n",
       "  <thead>\n",
       "    <tr style=\"text-align: right;\">\n",
       "      <th></th>\n",
       "      <th>release_year</th>\n",
       "      <th>date_added</th>\n",
       "    </tr>\n",
       "  </thead>\n",
       "  <tbody>\n",
       "    <tr>\n",
       "      <th>count</th>\n",
       "      <td>6234.00000</td>\n",
       "      <td>6223</td>\n",
       "    </tr>\n",
       "    <tr>\n",
       "      <th>mean</th>\n",
       "      <td>2013.35932</td>\n",
       "      <td>2018-07-01 15:36:42.346135296</td>\n",
       "    </tr>\n",
       "    <tr>\n",
       "      <th>std</th>\n",
       "      <td>8.81162</td>\n",
       "      <td>NaN</td>\n",
       "    </tr>\n",
       "    <tr>\n",
       "      <th>min</th>\n",
       "      <td>1925.00000</td>\n",
       "      <td>2008-01-01 00:00:00</td>\n",
       "    </tr>\n",
       "    <tr>\n",
       "      <th>25%</th>\n",
       "      <td>2013.00000</td>\n",
       "      <td>2017-10-01 00:00:00</td>\n",
       "    </tr>\n",
       "    <tr>\n",
       "      <th>50%</th>\n",
       "      <td>2016.00000</td>\n",
       "      <td>2018-09-30 00:00:00</td>\n",
       "    </tr>\n",
       "    <tr>\n",
       "      <th>75%</th>\n",
       "      <td>2018.00000</td>\n",
       "      <td>2019-06-08 00:00:00</td>\n",
       "    </tr>\n",
       "    <tr>\n",
       "      <th>max</th>\n",
       "      <td>2020.00000</td>\n",
       "      <td>2020-01-18 00:00:00</td>\n",
       "    </tr>\n",
       "  </tbody>\n",
       "</table>\n",
       "</div>"
      ],
      "text/plain": [
       "       release_year                     date_added\n",
       "count    6234.00000                           6223\n",
       "mean     2013.35932  2018-07-01 15:36:42.346135296\n",
       "std         8.81162                            NaN\n",
       "min      1925.00000            2008-01-01 00:00:00\n",
       "25%      2013.00000            2017-10-01 00:00:00\n",
       "50%      2016.00000            2018-09-30 00:00:00\n",
       "75%      2018.00000            2019-06-08 00:00:00\n",
       "max      2020.00000            2020-01-18 00:00:00"
      ]
     },
     "execution_count": 29,
     "metadata": {},
     "output_type": "execute_result"
    }
   ],
   "source": [
    "nume_col_profiles_df = df_movies.loc[:,['release_year', 'date_added']] \\\n",
    "                                 .agg([lambda x: pd.Series.describe(x, datetime_is_numeric=True)])\n",
    "\n",
    "nume_col_profiles_df.columns = ['release_year', 'date_added']\n",
    "\n",
    "nume_col_profiles_df"
   ]
  },
  {
   "cell_type": "code",
   "execution_count": 30,
   "id": "0c40cc51",
   "metadata": {},
   "outputs": [
    {
     "data": {
      "text/html": [
       "<div>\n",
       "<style scoped>\n",
       "    .dataframe tbody tr th:only-of-type {\n",
       "        vertical-align: middle;\n",
       "    }\n",
       "\n",
       "    .dataframe tbody tr th {\n",
       "        vertical-align: top;\n",
       "    }\n",
       "\n",
       "    .dataframe thead th {\n",
       "        text-align: right;\n",
       "    }\n",
       "</style>\n",
       "<table border=\"1\" class=\"dataframe\">\n",
       "  <thead>\n",
       "    <tr style=\"text-align: right;\">\n",
       "      <th></th>\n",
       "      <th>release_year</th>\n",
       "      <th>date_added</th>\n",
       "    </tr>\n",
       "  </thead>\n",
       "  <tbody>\n",
       "    <tr>\n",
       "      <th>count</th>\n",
       "      <td>6234.00000</td>\n",
       "      <td>6223</td>\n",
       "    </tr>\n",
       "    <tr>\n",
       "      <th>mean</th>\n",
       "      <td>2013.35932</td>\n",
       "      <td>2018-07-01 15:36:42.346135296</td>\n",
       "    </tr>\n",
       "    <tr>\n",
       "      <th>std</th>\n",
       "      <td>8.81162</td>\n",
       "      <td>NaN</td>\n",
       "    </tr>\n",
       "    <tr>\n",
       "      <th>min</th>\n",
       "      <td>1925.00000</td>\n",
       "      <td>2008-01-01 00:00:00</td>\n",
       "    </tr>\n",
       "    <tr>\n",
       "      <th>25%</th>\n",
       "      <td>2013.00000</td>\n",
       "      <td>2017-10-01 00:00:00</td>\n",
       "    </tr>\n",
       "    <tr>\n",
       "      <th>50%</th>\n",
       "      <td>2016.00000</td>\n",
       "      <td>2018-09-30 00:00:00</td>\n",
       "    </tr>\n",
       "    <tr>\n",
       "      <th>75%</th>\n",
       "      <td>2018.00000</td>\n",
       "      <td>2019-06-08 00:00:00</td>\n",
       "    </tr>\n",
       "    <tr>\n",
       "      <th>max</th>\n",
       "      <td>2020.00000</td>\n",
       "      <td>2020-01-18 00:00:00</td>\n",
       "    </tr>\n",
       "  </tbody>\n",
       "</table>\n",
       "</div>"
      ],
      "text/plain": [
       "       release_year                     date_added\n",
       "count    6234.00000                           6223\n",
       "mean     2013.35932  2018-07-01 15:36:42.346135296\n",
       "std         8.81162                            NaN\n",
       "min      1925.00000            2008-01-01 00:00:00\n",
       "25%      2013.00000            2017-10-01 00:00:00\n",
       "50%      2016.00000            2018-09-30 00:00:00\n",
       "75%      2018.00000            2019-06-08 00:00:00\n",
       "max      2020.00000            2020-01-18 00:00:00"
      ]
     },
     "execution_count": 30,
     "metadata": {},
     "output_type": "execute_result"
    }
   ],
   "source": [
    "df_movies.loc[:,['release_year', 'date_added']].agg([lambda x: pd.Series.describe(x, datetime_is_numeric=True)]).set_axis(['release_year', 'date_added'], axis=1)"
   ]
  },
  {
   "cell_type": "markdown",
   "id": "5b032523",
   "metadata": {},
   "source": [
    "We can have some observation as below <br>\n",
    "Netflix added movie(s) released in 1925, it was around the time the first movie was released - 1895. This one is a really old movie(s)<br>\n",
    "Maximum release_year is 2020, so probably this dataset is just updated till around 2020<br>\n",
    "Release period span 1925 to 2016 seems to not have lots of movies released although it was a long time range. The film industry was having a lot more within just a short time from 2016 to 2020<br>\n",
    "\n",
    "Logically, movies should have its <code>date_added</code> later than its <code>release_year</code>. However, we will check to see if it is true"
   ]
  },
  {
   "cell_type": "code",
   "execution_count": 31,
   "id": "b79d369d",
   "metadata": {},
   "outputs": [
    {
     "data": {
      "text/html": [
       "<div>\n",
       "<style scoped>\n",
       "    .dataframe tbody tr th:only-of-type {\n",
       "        vertical-align: middle;\n",
       "    }\n",
       "\n",
       "    .dataframe tbody tr th {\n",
       "        vertical-align: top;\n",
       "    }\n",
       "\n",
       "    .dataframe thead th {\n",
       "        text-align: right;\n",
       "    }\n",
       "</style>\n",
       "<table border=\"1\" class=\"dataframe\">\n",
       "  <thead>\n",
       "    <tr style=\"text-align: right;\">\n",
       "      <th></th>\n",
       "      <th>type</th>\n",
       "      <th>title</th>\n",
       "      <th>date_added</th>\n",
       "      <th>release_year</th>\n",
       "    </tr>\n",
       "  </thead>\n",
       "  <tbody>\n",
       "    <tr>\n",
       "      <th>518</th>\n",
       "      <td>Movie</td>\n",
       "      <td>Incoming</td>\n",
       "      <td>2018-10-26</td>\n",
       "      <td>2019</td>\n",
       "    </tr>\n",
       "    <tr>\n",
       "      <th>1315</th>\n",
       "      <td>TV Show</td>\n",
       "      <td>Maradona in Mexico</td>\n",
       "      <td>2019-11-13</td>\n",
       "      <td>2020</td>\n",
       "    </tr>\n",
       "    <tr>\n",
       "      <th>2028</th>\n",
       "      <td>TV Show</td>\n",
       "      <td>Jack Taylor</td>\n",
       "      <td>2013-03-31</td>\n",
       "      <td>2016</td>\n",
       "    </tr>\n",
       "    <tr>\n",
       "      <th>3144</th>\n",
       "      <td>Movie</td>\n",
       "      <td>Hans Teeuwen: Real Rancour</td>\n",
       "      <td>2017-07-01</td>\n",
       "      <td>2018</td>\n",
       "    </tr>\n",
       "    <tr>\n",
       "      <th>4587</th>\n",
       "      <td>TV Show</td>\n",
       "      <td>Tokyo Trial</td>\n",
       "      <td>2016-12-13</td>\n",
       "      <td>2017</td>\n",
       "    </tr>\n",
       "    <tr>\n",
       "      <th>4662</th>\n",
       "      <td>TV Show</td>\n",
       "      <td>Little Singham</td>\n",
       "      <td>2018-12-01</td>\n",
       "      <td>2019</td>\n",
       "    </tr>\n",
       "    <tr>\n",
       "      <th>5784</th>\n",
       "      <td>TV Show</td>\n",
       "      <td>Unbreakable Kimmy Schmidt</td>\n",
       "      <td>2018-05-30</td>\n",
       "      <td>2019</td>\n",
       "    </tr>\n",
       "    <tr>\n",
       "      <th>5789</th>\n",
       "      <td>TV Show</td>\n",
       "      <td>Arrested Development</td>\n",
       "      <td>2018-05-29</td>\n",
       "      <td>2019</td>\n",
       "    </tr>\n",
       "    <tr>\n",
       "      <th>6087</th>\n",
       "      <td>TV Show</td>\n",
       "      <td>Sense8</td>\n",
       "      <td>2016-12-23</td>\n",
       "      <td>2018</td>\n",
       "    </tr>\n",
       "  </tbody>\n",
       "</table>\n",
       "</div>"
      ],
      "text/plain": [
       "         type                       title date_added  release_year\n",
       "518     Movie                    Incoming 2018-10-26          2019\n",
       "1315  TV Show          Maradona in Mexico 2019-11-13          2020\n",
       "2028  TV Show                 Jack Taylor 2013-03-31          2016\n",
       "3144    Movie  Hans Teeuwen: Real Rancour 2017-07-01          2018\n",
       "4587  TV Show                 Tokyo Trial 2016-12-13          2017\n",
       "4662  TV Show              Little Singham 2018-12-01          2019\n",
       "5784  TV Show   Unbreakable Kimmy Schmidt 2018-05-30          2019\n",
       "5789  TV Show        Arrested Development 2018-05-29          2019\n",
       "6087  TV Show                      Sense8 2016-12-23          2018"
      ]
     },
     "execution_count": 31,
     "metadata": {},
     "output_type": "execute_result"
    }
   ],
   "source": [
    "df_movies.loc[df_movies['date_added'].dt.year < df_movies['release_year'],['type','title','date_added','release_year']]"
   ]
  },
  {
   "cell_type": "markdown",
   "id": "ed943e39",
   "metadata": {},
   "source": [
    "We see that, to <code>TV Show</code>, the date_added is usually \n",
    "These are a couple of movies that have <code>release_year</code> later than <code>dated_added</code>. These could be added on Netflix as premire before actual released date. However, there is no firm evident for these cases, so we will not touch it for now"
   ]
  },
  {
   "cell_type": "markdown",
   "id": "934234f6",
   "metadata": {},
   "source": [
    "#### Check for <code>director</code>"
   ]
  },
  {
   "cell_type": "code",
   "execution_count": 32,
   "id": "da1964dc",
   "metadata": {},
   "outputs": [
    {
     "data": {
      "image/png": "[encoded data removed]",
      "text/plain": [
       "<Figure size 432x288 with 1 Axes>"
      ]
     },
     "metadata": {},
     "output_type": "display_data"
    }
   ],
   "source": [
    "sns.set_theme()\n",
    "\n",
    "ax = df_movies['director'].apply(lambda x:len(x)).value_counts().plot.bar()\n",
    "ax.set(ylabel='Số lượng phim', xlabel='Số lượng đạo diễn mỗi phim')\n",
    "\n",
    "plt.show()"
   ]
  },
  {
   "cell_type": "markdown",
   "id": "24ada7db",
   "metadata": {},
   "source": [
    "Most movies just have 1 director. Quite many missing on director info, also the <code>0</code> value"
   ]
  },
  {
   "cell_type": "code",
   "execution_count": 33,
   "id": "bb7fe698",
   "metadata": {},
   "outputs": [
    {
     "name": "stdout",
     "output_type": "stream",
     "text": [
      "Jan Suter              21\n",
      "Raúl Campos            19\n",
      "Jay Karas              14\n",
      "Marcus Raboy           14\n",
      "Jay Chapman            12\n",
      "Martin Scorsese         9\n",
      "Steven Spielberg        9\n",
      "Umesh Mehra             8\n",
      "Shannon Hartman         8\n",
      "Lance Bangs             8\n"
     ]
    }
   ],
   "source": [
    "##Top 10 director direct most movies\n",
    "for country,times in Counter(df_movies['director'].sum()).most_common(10):\n",
    "    print(\"%-20s %4.1d\" % (country, times))"
   ]
  },
  {
   "cell_type": "code",
   "execution_count": 34,
   "id": "9dbab73f",
   "metadata": {},
   "outputs": [
    {
     "data": {
      "text/plain": [
       "[]                                   1969\n",
       "['Raúl Campos', 'Jan Suter']           18\n",
       "['Marcus Raboy']                       14\n",
       "['Jay Karas']                          13\n",
       "['Jay Chapman']                        12\n",
       "                                     ... \n",
       "['Ruel S. Bayani']                      1\n",
       "['Peter Mortimer', 'Josh Lowell']       1\n",
       "['Greg Coolidge']                       1\n",
       "['Owen Egerton']                        1\n",
       "['Onur Ünlü']                           1\n",
       "Name: director, Length: 3302, dtype: int64"
      ]
     },
     "execution_count": 34,
     "metadata": {},
     "output_type": "execute_result"
    }
   ],
   "source": [
    "##Director combo that direct most movies\n",
    "df_movies['director'].apply(lambda x:str(x)).value_counts()"
   ]
  },
  {
   "cell_type": "markdown",
   "id": "95a0f3c2",
   "metadata": {},
   "source": [
    "Raúl Campos and Jan Suter together made 18 movies, while seperately count, Suter made 21 and Campos made 19. We can tell they mostly work together<br>\n",
    "So far no abnormal problem within <code>director</code> data"
   ]
  },
  {
   "cell_type": "markdown",
   "id": "e36d200c",
   "metadata": {},
   "source": [
    "#### Check for <code>cast</code>"
   ]
  },
  {
   "cell_type": "code",
   "execution_count": 35,
   "id": "f02126ca",
   "metadata": {},
   "outputs": [
    {
     "data": {
      "image/png": "[encoded data removed]",
      "text/plain": [
       "<Figure size 864x288 with 1 Axes>"
      ]
     },
     "metadata": {},
     "output_type": "display_data"
    }
   ],
   "source": [
    "##Show number of casts per movie\n",
    "z=df_movies['cast'].apply(lambda x:len(x)).value_counts()\n",
    "\n",
    "ax = z.sort_index().plot.bar(figsize=(12,4),color='orange').set(ylabel='Num of movie', xlabel='Num of cast')\n",
    "\n",
    "plt.show()"
   ]
  },
  {
   "cell_type": "markdown",
   "id": "d6b89a10",
   "metadata": {},
   "source": [
    "#### Check for <code>country</code>"
   ]
  },
  {
   "cell_type": "code",
   "execution_count": 36,
   "id": "214a41ce",
   "metadata": {},
   "outputs": [
    {
     "name": "stdout",
     "output_type": "stream",
     "text": [
      "United States    2609\n",
      "India             838\n",
      "United Kingdom    601\n",
      "Canada            318\n",
      "France            271\n",
      "Japan             231\n",
      "Spain             178\n",
      "South Korea       162\n",
      "Germany           151\n",
      "Mexico            129\n"
     ]
    }
   ],
   "source": [
    "##Top 10 countries produce the most movies\n",
    "for country,times in Counter(df_movies['country'].sum()).most_common(10):\n",
    "    print(\"%-15s %5d\" % (country, times))"
   ]
  },
  {
   "cell_type": "code",
   "execution_count": 37,
   "id": "98ba2a55",
   "metadata": {},
   "outputs": [
    {
     "data": {
      "image/png": "[encoded data removed]",
      "text/plain": [
       "<Figure size 432x288 with 1 Axes>"
      ]
     },
     "metadata": {},
     "output_type": "display_data"
    }
   ],
   "source": [
    "df_movies['country'].apply(lambda x:len(x)).value_counts().plot.bar().set(ylabel='Num of movie', xlabel='Num of product country')\n",
    "\n",
    "plt.show()"
   ]
  },
  {
   "cell_type": "markdown",
   "id": "66bdace0",
   "metadata": {},
   "source": [
    "The United States produced the most movies, and significant higher than the following country - Indian, by triple of it.<br>\n",
    "Most movies was self-produced by a signle country. Exceptional case(s) was produced by 12 countries"
   ]
  },
  {
   "cell_type": "markdown",
   "id": "10116613",
   "metadata": {},
   "source": [
    "#### Check for <code>duration</code>"
   ]
  },
  {
   "cell_type": "code",
   "execution_count": 38,
   "id": "b1d8d54d",
   "metadata": {},
   "outputs": [
    {
     "data": {
      "image/png": "[encoded data removed]",
      "text/plain": [
       "<Figure size 1440x360 with 1 Axes>"
      ]
     },
     "metadata": {},
     "output_type": "display_data"
    }
   ],
   "source": [
    "fig, ax = plt.subplots()\n",
    "fig.set_size_inches(20,5)\n",
    "sns.histplot(x='min',data=df_movies, kde=True, color='blue')\n",
    "ax.set_xlabel(\"Min\")\n",
    "ax.set_ylabel(\"Num of movie\")\n",
    "plt.show()"
   ]
  },
  {
   "cell_type": "code",
   "execution_count": 39,
   "id": "6aff1ede",
   "metadata": {},
   "outputs": [
    {
     "data": {
      "image/png": "[encoded data removed]",
      "text/plain": [
       "<Figure size 720x288 with 1 Axes>"
      ]
     },
     "metadata": {},
     "output_type": "display_data"
    }
   ],
   "source": [
    "fig, ax = plt.subplots()\n",
    "fig.set_size_inches(10,4)\n",
    "sns.histplot(x='season',data=df_movies,binwidth=0.5)\n",
    "ax.set_xlabel(\"Season\")\n",
    "ax.set_ylabel(\"Num of movie\")\n",
    "ax.set_xticks(range(len(df_movies['season'].unique())))\n",
    "\n",
    "plt.show()"
   ]
  },
  {
   "cell_type": "markdown",
   "id": "12bc4745",
   "metadata": {},
   "source": [
    "We can tell from the visualization of movies that most non-series have average length at ~90 mins. We will check on movies that have shortest and longest time to see if there are any inaccuracies\n",
    "\n",
    "Most series movies have 1 season. We can tell that a series movie need a lot of factors in order to produce more seasons."
   ]
  },
  {
   "cell_type": "code",
   "execution_count": 40,
   "id": "1e33e7d6",
   "metadata": {},
   "outputs": [
    {
     "data": {
      "text/html": [
       "<div>\n",
       "<style scoped>\n",
       "    .dataframe tbody tr th:only-of-type {\n",
       "        vertical-align: middle;\n",
       "    }\n",
       "\n",
       "    .dataframe tbody tr th {\n",
       "        vertical-align: top;\n",
       "    }\n",
       "\n",
       "    .dataframe thead th {\n",
       "        text-align: right;\n",
       "    }\n",
       "</style>\n",
       "<table border=\"1\" class=\"dataframe\">\n",
       "  <thead>\n",
       "    <tr style=\"text-align: right;\">\n",
       "      <th></th>\n",
       "      <th>title</th>\n",
       "      <th>duration</th>\n",
       "      <th>listed_in</th>\n",
       "      <th>description</th>\n",
       "      <th>country</th>\n",
       "    </tr>\n",
       "  </thead>\n",
       "  <tbody>\n",
       "    <tr>\n",
       "      <th>2478</th>\n",
       "      <td>Silent</td>\n",
       "      <td>3 min</td>\n",
       "      <td>Children &amp; Family Movies, Sci-Fi &amp; Fantasy</td>\n",
       "      <td>\"Silent\" is an animated short film created by ...</td>\n",
       "      <td>[United States]</td>\n",
       "    </tr>\n",
       "    <tr>\n",
       "      <th>4315</th>\n",
       "      <td>Black Mirror: Bandersnatch</td>\n",
       "      <td>312 min</td>\n",
       "      <td>Dramas, International Movies, Sci-Fi &amp; Fantasy</td>\n",
       "      <td>In 1984, a young programmer begins to question...</td>\n",
       "      <td>[United States]</td>\n",
       "    </tr>\n",
       "  </tbody>\n",
       "</table>\n",
       "</div>"
      ],
      "text/plain": [
       "                           title duration  \\\n",
       "2478                      Silent    3 min   \n",
       "4315  Black Mirror: Bandersnatch  312 min   \n",
       "\n",
       "                                           listed_in  \\\n",
       "2478      Children & Family Movies, Sci-Fi & Fantasy   \n",
       "4315  Dramas, International Movies, Sci-Fi & Fantasy   \n",
       "\n",
       "                                            description          country  \n",
       "2478  \"Silent\" is an animated short film created by ...  [United States]  \n",
       "4315  In 1984, a young programmer begins to question...  [United States]  "
      ]
     },
     "execution_count": 40,
     "metadata": {},
     "output_type": "execute_result"
    }
   ],
   "source": [
    "df_movies[(df_movies['min']==df_movies['min'].min())|(df_movies['min']==df_movies['min'].max())][['title','duration','listed_in','description','country']]"
   ]
  },
  {
   "cell_type": "markdown",
   "id": "b629ee12",
   "metadata": {},
   "source": [
    "## Question I: To every movie a user searches for, what movie should we recommend along"
   ]
  },
  {
   "cell_type": "markdown",
   "id": "1f3b1efc",
   "metadata": {},
   "source": [
    "Finding the answer to this question will be beneficial for both users and the movie service provider:    \n",
    "<li><b>For users:</b> Users search for a movie to watch, and after watching, they may want to continue watching films of the same genre, with the same actors, from the same country, or by the same director. It would be convenient for users if the system could suggest a list of movies similar to the one they are searching for\n",
    "<li><b>For the movie service provider:</b> If the system makes good recommendations, there's a high likelihood that users will continue watching the suggested films, leading to longer usage of the service and increased revenue for the provider.\n",
    "    The recommendation system we build will be a simple one. When a user searches for a movie title, instead of returning only that specific movie, the system will suggest similar films. The similarity of movies will be defined by factors such as <code>title</code>, <code>cast</code>, <code>director</code>, <code>country</code>, <code>rating</code>, and <code>genre</code>.\n",
    "\n",
    "Our hypothesis is that if a user searches for an American movie, it is likely that the user enjoys watching American films. If a user searches for a specific movie, we can suggest additional films with the same director or cast, among other factors. "
   ]
  },
  {
   "cell_type": "markdown",
   "id": "17f3e024",
   "metadata": {},
   "source": [
    "### Convert <code>title</code>, <code>cast</code>, <code>director</code>, <code>country</code>, <code>rating</code>, and <code>genre</code> to String type"
   ]
  },
  {
   "cell_type": "markdown",
   "id": "36b645ee",
   "metadata": {},
   "source": [
    "We will apply get_dummies method on these columns and turn them into several bolean columns. For <code>cast</code>, due to it contains too many values, we will only pick top 3 labels presumably are the main casts "
   ]
  },
  {
   "cell_type": "code",
   "execution_count": 41,
   "id": "6f366e73",
   "metadata": {},
   "outputs": [
    {
     "data": {
      "text/html": [
       "<div>\n",
       "<style scoped>\n",
       "    .dataframe tbody tr th:only-of-type {\n",
       "        vertical-align: middle;\n",
       "    }\n",
       "\n",
       "    .dataframe tbody tr th {\n",
       "        vertical-align: top;\n",
       "    }\n",
       "\n",
       "    .dataframe thead th {\n",
       "        text-align: right;\n",
       "    }\n",
       "</style>\n",
       "<table border=\"1\" class=\"dataframe\">\n",
       "  <thead>\n",
       "    <tr style=\"text-align: right;\">\n",
       "      <th></th>\n",
       "      <th>type</th>\n",
       "      <th>title</th>\n",
       "      <th>director</th>\n",
       "      <th>country</th>\n",
       "      <th>rating</th>\n",
       "      <th>description</th>\n",
       "      <th>title_prefix</th>\n",
       "      <th>listed_in_array</th>\n",
       "      <th>cast_top_3</th>\n",
       "    </tr>\n",
       "  </thead>\n",
       "  <tbody>\n",
       "    <tr>\n",
       "      <th>0</th>\n",
       "      <td>Movie</td>\n",
       "      <td>Norm of the North: King Sized Adventure</td>\n",
       "      <td>[Richard Finn, Tim Maltby]</td>\n",
       "      <td>[United States, India, South Korea, China]</td>\n",
       "      <td>TV-PG</td>\n",
       "      <td>Before planning an awesome wedding for his gra...</td>\n",
       "      <td>Norm of the North</td>\n",
       "      <td>[Children &amp; Family Movies, Comedies]</td>\n",
       "      <td>[Alan Marriott, Andrew Toth, Brian Dobson]</td>\n",
       "    </tr>\n",
       "    <tr>\n",
       "      <th>1</th>\n",
       "      <td>Movie</td>\n",
       "      <td>Jandino: Whatever it Takes</td>\n",
       "      <td>[]</td>\n",
       "      <td>[United Kingdom]</td>\n",
       "      <td>TV-MA</td>\n",
       "      <td>Jandino Asporaat riffs on the challenges of ra...</td>\n",
       "      <td>Jandino</td>\n",
       "      <td>[Stand-Up Comedy]</td>\n",
       "      <td>[Jandino Asporaat]</td>\n",
       "    </tr>\n",
       "    <tr>\n",
       "      <th>2</th>\n",
       "      <td>TV Show</td>\n",
       "      <td>Transformers Prime</td>\n",
       "      <td>[]</td>\n",
       "      <td>[United States]</td>\n",
       "      <td>TV-Y7-FV</td>\n",
       "      <td>With the help of three human allies, the Autob...</td>\n",
       "      <td>Transformers Prime</td>\n",
       "      <td>[Kids' TV]</td>\n",
       "      <td>[Peter Cullen, Sumalee Montano, Frank Welker]</td>\n",
       "    </tr>\n",
       "    <tr>\n",
       "      <th>3</th>\n",
       "      <td>TV Show</td>\n",
       "      <td>Transformers: Robots in Disguise</td>\n",
       "      <td>[]</td>\n",
       "      <td>[United States]</td>\n",
       "      <td>TV-Y7</td>\n",
       "      <td>When a prison ship crash unleashes hundreds of...</td>\n",
       "      <td>Transformers</td>\n",
       "      <td>[Kids' TV]</td>\n",
       "      <td>[Will Friedle, Darren Criss, Constance Zimmer]</td>\n",
       "    </tr>\n",
       "    <tr>\n",
       "      <th>4</th>\n",
       "      <td>Movie</td>\n",
       "      <td>#realityhigh</td>\n",
       "      <td>[Fernando Lebrija]</td>\n",
       "      <td>[United States]</td>\n",
       "      <td>TV-14</td>\n",
       "      <td>When nerdy high schooler Dani finally attracts...</td>\n",
       "      <td>#realityhigh</td>\n",
       "      <td>[Comedies]</td>\n",
       "      <td>[Nesta Cooper, Kate Walsh, John Michael Higgins]</td>\n",
       "    </tr>\n",
       "  </tbody>\n",
       "</table>\n",
       "</div>"
      ],
      "text/plain": [
       "      type                                    title  \\\n",
       "0    Movie  Norm of the North: King Sized Adventure   \n",
       "1    Movie               Jandino: Whatever it Takes   \n",
       "2  TV Show                       Transformers Prime   \n",
       "3  TV Show         Transformers: Robots in Disguise   \n",
       "4    Movie                             #realityhigh   \n",
       "\n",
       "                     director                                     country  \\\n",
       "0  [Richard Finn, Tim Maltby]  [United States, India, South Korea, China]   \n",
       "1                          []                            [United Kingdom]   \n",
       "2                          []                             [United States]   \n",
       "3                          []                             [United States]   \n",
       "4          [Fernando Lebrija]                             [United States]   \n",
       "\n",
       "     rating                                        description  \\\n",
       "0     TV-PG  Before planning an awesome wedding for his gra...   \n",
       "1     TV-MA  Jandino Asporaat riffs on the challenges of ra...   \n",
       "2  TV-Y7-FV  With the help of three human allies, the Autob...   \n",
       "3     TV-Y7  When a prison ship crash unleashes hundreds of...   \n",
       "4     TV-14  When nerdy high schooler Dani finally attracts...   \n",
       "\n",
       "         title_prefix                       listed_in_array  \\\n",
       "0   Norm of the North  [Children & Family Movies, Comedies]   \n",
       "1             Jandino                     [Stand-Up Comedy]   \n",
       "2  Transformers Prime                            [Kids' TV]   \n",
       "3        Transformers                            [Kids' TV]   \n",
       "4        #realityhigh                            [Comedies]   \n",
       "\n",
       "                                         cast_top_3  \n",
       "0        [Alan Marriott, Andrew Toth, Brian Dobson]  \n",
       "1                                [Jandino Asporaat]  \n",
       "2     [Peter Cullen, Sumalee Montano, Frank Welker]  \n",
       "3    [Will Friedle, Darren Criss, Constance Zimmer]  \n",
       "4  [Nesta Cooper, Kate Walsh, John Michael Higgins]  "
      ]
     },
     "execution_count": 41,
     "metadata": {},
     "output_type": "execute_result"
    }
   ],
   "source": [
    "##Create df_rec for the recommendation\n",
    "\n",
    "##Retrieve top 3 casts\n",
    "df_rec=df_movies.copy()\n",
    "df_rec['cast_top_3']=df_rec['cast'].apply(lambda x:x[:3])\n",
    "\n",
    "#Drop unused columns\n",
    "df_rec.drop(columns=['cast','cast','listed_in','date_added','release_year','duration',\n",
    "                     'title_postfix','show_id','min','season'],inplace=True)\n",
    "df_rec.head()"
   ]
  },
  {
   "cell_type": "code",
   "execution_count": 42,
   "id": "0dafa524",
   "metadata": {},
   "outputs": [
    {
     "data": {
      "text/html": [
       "<div>\n",
       "<style scoped>\n",
       "    .dataframe tbody tr th:only-of-type {\n",
       "        vertical-align: middle;\n",
       "    }\n",
       "\n",
       "    .dataframe tbody tr th {\n",
       "        vertical-align: top;\n",
       "    }\n",
       "\n",
       "    .dataframe thead th {\n",
       "        text-align: right;\n",
       "    }\n",
       "</style>\n",
       "<table border=\"1\" class=\"dataframe\">\n",
       "  <thead>\n",
       "    <tr style=\"text-align: right;\">\n",
       "      <th></th>\n",
       "      <th>type</th>\n",
       "      <th>cast_4Minute</th>\n",
       "      <th>cast_50 Cent</th>\n",
       "      <th>cast_A-ra Go</th>\n",
       "      <th>cast_A. Murat Özgen</th>\n",
       "      <th>cast_A.J. Cook</th>\n",
       "      <th>cast_A.J. LoCascio</th>\n",
       "      <th>cast_A.K. Hangal</th>\n",
       "      <th>cast_A.R. Rahman</th>\n",
       "      <th>cast_A.S. Sasi Kumar</th>\n",
       "      <th>...</th>\n",
       "      <th>cast_PG-13</th>\n",
       "      <th>cast_R</th>\n",
       "      <th>cast_TV-14</th>\n",
       "      <th>cast_TV-G</th>\n",
       "      <th>cast_TV-MA</th>\n",
       "      <th>cast_TV-PG</th>\n",
       "      <th>cast_TV-Y</th>\n",
       "      <th>cast_TV-Y7</th>\n",
       "      <th>cast_TV-Y7-FV</th>\n",
       "      <th>cast_UR</th>\n",
       "    </tr>\n",
       "  </thead>\n",
       "  <tbody>\n",
       "    <tr>\n",
       "      <th>0</th>\n",
       "      <td>1</td>\n",
       "      <td>0.0</td>\n",
       "      <td>0.0</td>\n",
       "      <td>0.0</td>\n",
       "      <td>0.0</td>\n",
       "      <td>0.0</td>\n",
       "      <td>0.0</td>\n",
       "      <td>0.0</td>\n",
       "      <td>0.0</td>\n",
       "      <td>0.0</td>\n",
       "      <td>...</td>\n",
       "      <td>0</td>\n",
       "      <td>0</td>\n",
       "      <td>0</td>\n",
       "      <td>0</td>\n",
       "      <td>0</td>\n",
       "      <td>1</td>\n",
       "      <td>0</td>\n",
       "      <td>0</td>\n",
       "      <td>0</td>\n",
       "      <td>0</td>\n",
       "    </tr>\n",
       "    <tr>\n",
       "      <th>1</th>\n",
       "      <td>1</td>\n",
       "      <td>0.0</td>\n",
       "      <td>0.0</td>\n",
       "      <td>0.0</td>\n",
       "      <td>0.0</td>\n",
       "      <td>0.0</td>\n",
       "      <td>0.0</td>\n",
       "      <td>0.0</td>\n",
       "      <td>0.0</td>\n",
       "      <td>0.0</td>\n",
       "      <td>...</td>\n",
       "      <td>0</td>\n",
       "      <td>0</td>\n",
       "      <td>0</td>\n",
       "      <td>0</td>\n",
       "      <td>1</td>\n",
       "      <td>0</td>\n",
       "      <td>0</td>\n",
       "      <td>0</td>\n",
       "      <td>0</td>\n",
       "      <td>0</td>\n",
       "    </tr>\n",
       "    <tr>\n",
       "      <th>2</th>\n",
       "      <td>0</td>\n",
       "      <td>0.0</td>\n",
       "      <td>0.0</td>\n",
       "      <td>0.0</td>\n",
       "      <td>0.0</td>\n",
       "      <td>0.0</td>\n",
       "      <td>0.0</td>\n",
       "      <td>0.0</td>\n",
       "      <td>0.0</td>\n",
       "      <td>0.0</td>\n",
       "      <td>...</td>\n",
       "      <td>0</td>\n",
       "      <td>0</td>\n",
       "      <td>0</td>\n",
       "      <td>0</td>\n",
       "      <td>0</td>\n",
       "      <td>0</td>\n",
       "      <td>0</td>\n",
       "      <td>0</td>\n",
       "      <td>1</td>\n",
       "      <td>0</td>\n",
       "    </tr>\n",
       "    <tr>\n",
       "      <th>3</th>\n",
       "      <td>0</td>\n",
       "      <td>0.0</td>\n",
       "      <td>0.0</td>\n",
       "      <td>0.0</td>\n",
       "      <td>0.0</td>\n",
       "      <td>0.0</td>\n",
       "      <td>0.0</td>\n",
       "      <td>0.0</td>\n",
       "      <td>0.0</td>\n",
       "      <td>0.0</td>\n",
       "      <td>...</td>\n",
       "      <td>0</td>\n",
       "      <td>0</td>\n",
       "      <td>0</td>\n",
       "      <td>0</td>\n",
       "      <td>0</td>\n",
       "      <td>0</td>\n",
       "      <td>0</td>\n",
       "      <td>1</td>\n",
       "      <td>0</td>\n",
       "      <td>0</td>\n",
       "    </tr>\n",
       "    <tr>\n",
       "      <th>4</th>\n",
       "      <td>1</td>\n",
       "      <td>0.0</td>\n",
       "      <td>0.0</td>\n",
       "      <td>0.0</td>\n",
       "      <td>0.0</td>\n",
       "      <td>0.0</td>\n",
       "      <td>0.0</td>\n",
       "      <td>0.0</td>\n",
       "      <td>0.0</td>\n",
       "      <td>0.0</td>\n",
       "      <td>...</td>\n",
       "      <td>0</td>\n",
       "      <td>0</td>\n",
       "      <td>1</td>\n",
       "      <td>0</td>\n",
       "      <td>0</td>\n",
       "      <td>0</td>\n",
       "      <td>0</td>\n",
       "      <td>0</td>\n",
       "      <td>0</td>\n",
       "      <td>0</td>\n",
       "    </tr>\n",
       "  </tbody>\n",
       "</table>\n",
       "<p>5 rows × 14094 columns</p>\n",
       "</div>"
      ],
      "text/plain": [
       "   type  cast_4Minute  cast_50 Cent  cast_A-ra Go  cast_A. Murat Özgen  \\\n",
       "0     1           0.0           0.0           0.0                  0.0   \n",
       "1     1           0.0           0.0           0.0                  0.0   \n",
       "2     0           0.0           0.0           0.0                  0.0   \n",
       "3     0           0.0           0.0           0.0                  0.0   \n",
       "4     1           0.0           0.0           0.0                  0.0   \n",
       "\n",
       "   cast_A.J. Cook  cast_A.J. LoCascio  cast_A.K. Hangal  cast_A.R. Rahman  \\\n",
       "0             0.0                 0.0               0.0               0.0   \n",
       "1             0.0                 0.0               0.0               0.0   \n",
       "2             0.0                 0.0               0.0               0.0   \n",
       "3             0.0                 0.0               0.0               0.0   \n",
       "4             0.0                 0.0               0.0               0.0   \n",
       "\n",
       "   cast_A.S. Sasi Kumar  ...  cast_PG-13  cast_R  cast_TV-14  cast_TV-G  \\\n",
       "0                   0.0  ...           0       0           0          0   \n",
       "1                   0.0  ...           0       0           0          0   \n",
       "2                   0.0  ...           0       0           0          0   \n",
       "3                   0.0  ...           0       0           0          0   \n",
       "4                   0.0  ...           0       0           1          0   \n",
       "\n",
       "   cast_TV-MA  cast_TV-PG  cast_TV-Y  cast_TV-Y7  cast_TV-Y7-FV  cast_UR  \n",
       "0           0           1          0           0              0        0  \n",
       "1           1           0          0           0              0        0  \n",
       "2           0           0          0           0              1        0  \n",
       "3           0           0          0           1              0        0  \n",
       "4           0           0          0           0              0        0  \n",
       "\n",
       "[5 rows x 14094 columns]"
      ]
     },
     "execution_count": 42,
     "metadata": {},
     "output_type": "execute_result"
    }
   ],
   "source": [
    "df_rec['type']=df_rec['type'].replace({'TV Show':0,'Movie':1})\n",
    "\n",
    "df_rec=df_rec.join(pd.get_dummies(df_rec['cast_top_3'].apply(pd.Series).stack(), prefix='cast').groupby(level=0).sum(), rsuffix='_dummy')\n",
    "df_rec=df_rec.join(pd.get_dummies(df_rec['director'].apply(pd.Series).stack(), prefix='cast').groupby(level=0).sum(), rsuffix='_dummy')\n",
    "df_rec=df_rec.join(pd.get_dummies(df_rec['country'].apply(pd.Series).stack(), prefix='cast').groupby(level=0).sum(), rsuffix='_dummy')\n",
    "df_rec=df_rec.join(pd.get_dummies(df_rec['listed_in_array'].apply(pd.Series).stack(), prefix='cast').groupby(level=0).sum(), rsuffix='_dummy')\n",
    "df_rec=df_rec.join(pd.get_dummies(df_rec['rating'].apply(pd.Series).stack(), prefix='cast').groupby(level=0).sum(), rsuffix='_dummy')\n",
    "\n",
    "df_rec.drop(columns=['director','title','country','rating','description','title_prefix','cast_top_3','listed_in_array'],inplace=True)\n",
    "\n",
    "### Fill NaN value with 0\n",
    "df_rec=df_rec.fillna(0)\n",
    "\n",
    "df_rec.head()"
   ]
  },
  {
   "cell_type": "markdown",
   "id": "df4dc7aa",
   "metadata": {},
   "source": [
    "Now there are only bolean columns left. We will process to do the recommendation"
   ]
  },
  {
   "cell_type": "code",
   "execution_count": 43,
   "id": "10b47890",
   "metadata": {},
   "outputs": [],
   "source": [
    "def suggest_movies(movie_title, num_suggestions=5):\n",
    "    # Check if the movie title exists\n",
    "    if movie_title not in df_movies['title'].values:\n",
    "        print(f\"Movie with title '{movie_title}' not found.\")\n",
    "        return\n",
    "    # Get the row index of the movie with the given title\n",
    "    movie_index = df_rec[df_movies['title'] == movie_title].index[0]\n",
    "\n",
    "    # Calculate the cosine similarity between movies\n",
    "    cosine_sim = cosine_similarity(df_rec)\n",
    "\n",
    "    # Get the similarity scores for the given movie\n",
    "    sim_scores = list(enumerate(cosine_sim[movie_index]))\n",
    "\n",
    "    # Create dataframe to contain recommend movies and their similarity score correspondingly\n",
    "    df_sim=df_movies[['type','title','director','cast','country','rating','listed_in','description']].copy()\n",
    "\n",
    "    for index, score in sim_scores[:len(sim_scores)]:\n",
    "        df_sim.loc[index, 'sim_score'] = score\n",
    "\n",
    "    # Sort by sim_score\n",
    "    df_sim=df_sim.sort_values(by='sim_score',ascending=False)\n",
    "    \n",
    "    # Also show the input movie\n",
    "    return df_sim.iloc[0:num_suggestions+1]"
   ]
  },
  {
   "cell_type": "code",
   "execution_count": 44,
   "id": "ff01ed5c",
   "metadata": {},
   "outputs": [
    {
     "name": "stdout",
     "output_type": "stream",
     "text": [
      "Movie with title 'The Wrong Turn' not found.\n"
     ]
    }
   ],
   "source": [
    "suggest_movies('The Wrong Turn')"
   ]
  },
  {
   "cell_type": "code",
   "execution_count": 45,
   "id": "2ec95c01",
   "metadata": {},
   "outputs": [
    {
     "data": {
      "text/html": [
       "<div>\n",
       "<style scoped>\n",
       "    .dataframe tbody tr th:only-of-type {\n",
       "        vertical-align: middle;\n",
       "    }\n",
       "\n",
       "    .dataframe tbody tr th {\n",
       "        vertical-align: top;\n",
       "    }\n",
       "\n",
       "    .dataframe thead th {\n",
       "        text-align: right;\n",
       "    }\n",
       "</style>\n",
       "<table border=\"1\" class=\"dataframe\">\n",
       "  <thead>\n",
       "    <tr style=\"text-align: right;\">\n",
       "      <th></th>\n",
       "      <th>type</th>\n",
       "      <th>title</th>\n",
       "      <th>director</th>\n",
       "      <th>cast</th>\n",
       "      <th>country</th>\n",
       "      <th>rating</th>\n",
       "      <th>listed_in</th>\n",
       "      <th>description</th>\n",
       "      <th>sim_score</th>\n",
       "    </tr>\n",
       "  </thead>\n",
       "  <tbody>\n",
       "    <tr>\n",
       "      <th>3191</th>\n",
       "      <td>Movie</td>\n",
       "      <td>The Conjuring</td>\n",
       "      <td>[James Wan]</td>\n",
       "      <td>[Vera Farmiga, Patrick Wilson, Lili Taylor, Ro...</td>\n",
       "      <td>[United States]</td>\n",
       "      <td>R</td>\n",
       "      <td>Horror Movies, Thrillers</td>\n",
       "      <td>Based on true events, this spine-chiller tells...</td>\n",
       "      <td>1.000000</td>\n",
       "    </tr>\n",
       "    <tr>\n",
       "      <th>1547</th>\n",
       "      <td>Movie</td>\n",
       "      <td>Insidious</td>\n",
       "      <td>[James Wan]</td>\n",
       "      <td>[Patrick Wilson, Rose Byrne, Lin Shaye, Ty Sim...</td>\n",
       "      <td>[United States, Canada, United Kingdom]</td>\n",
       "      <td>PG-13</td>\n",
       "      <td>Horror Movies, Thrillers</td>\n",
       "      <td>Hoping to leave their haunted house behind, a ...</td>\n",
       "      <td>0.603023</td>\n",
       "    </tr>\n",
       "    <tr>\n",
       "      <th>1877</th>\n",
       "      <td>Movie</td>\n",
       "      <td>A Kind of Murder</td>\n",
       "      <td>[Andy Goddard]</td>\n",
       "      <td>[Patrick Wilson, Jessica Biel, Vincent Karthei...</td>\n",
       "      <td>[United States]</td>\n",
       "      <td>R</td>\n",
       "      <td>Thrillers</td>\n",
       "      <td>Obsessed with an unsolved murder case, a crime...</td>\n",
       "      <td>0.589256</td>\n",
       "    </tr>\n",
       "    <tr>\n",
       "      <th>2990</th>\n",
       "      <td>Movie</td>\n",
       "      <td>Creep</td>\n",
       "      <td>[Patrick Brice]</td>\n",
       "      <td>[Mark Duplass, Patrick Brice]</td>\n",
       "      <td>[United States]</td>\n",
       "      <td>R</td>\n",
       "      <td>Horror Movies, Independent Movies, Thrillers</td>\n",
       "      <td>When a cash-strapped videographer takes a job ...</td>\n",
       "      <td>0.555556</td>\n",
       "    </tr>\n",
       "    <tr>\n",
       "      <th>1323</th>\n",
       "      <td>Movie</td>\n",
       "      <td>Green Room</td>\n",
       "      <td>[Jeremy Saulnier]</td>\n",
       "      <td>[Anton Yelchin, Imogen Poots, Patrick Stewart,...</td>\n",
       "      <td>[United States]</td>\n",
       "      <td>R</td>\n",
       "      <td>Horror Movies, Thrillers</td>\n",
       "      <td>At the end of their low-budget tour, a punk ba...</td>\n",
       "      <td>0.555556</td>\n",
       "    </tr>\n",
       "    <tr>\n",
       "      <th>5089</th>\n",
       "      <td>Movie</td>\n",
       "      <td>Chernobyl Diaries</td>\n",
       "      <td>[Bradley Parker]</td>\n",
       "      <td>[Ingrid Bolsø Berdal, Dimitri Diatchenko, Oliv...</td>\n",
       "      <td>[United States]</td>\n",
       "      <td>R</td>\n",
       "      <td>Horror Movies, Thrillers</td>\n",
       "      <td>A group of kids takes an illegal tour through ...</td>\n",
       "      <td>0.555556</td>\n",
       "    </tr>\n",
       "  </tbody>\n",
       "</table>\n",
       "</div>"
      ],
      "text/plain": [
       "       type              title           director  \\\n",
       "3191  Movie      The Conjuring        [James Wan]   \n",
       "1547  Movie          Insidious        [James Wan]   \n",
       "1877  Movie   A Kind of Murder     [Andy Goddard]   \n",
       "2990  Movie              Creep    [Patrick Brice]   \n",
       "1323  Movie         Green Room  [Jeremy Saulnier]   \n",
       "5089  Movie  Chernobyl Diaries   [Bradley Parker]   \n",
       "\n",
       "                                                   cast  \\\n",
       "3191  [Vera Farmiga, Patrick Wilson, Lili Taylor, Ro...   \n",
       "1547  [Patrick Wilson, Rose Byrne, Lin Shaye, Ty Sim...   \n",
       "1877  [Patrick Wilson, Jessica Biel, Vincent Karthei...   \n",
       "2990                      [Mark Duplass, Patrick Brice]   \n",
       "1323  [Anton Yelchin, Imogen Poots, Patrick Stewart,...   \n",
       "5089  [Ingrid Bolsø Berdal, Dimitri Diatchenko, Oliv...   \n",
       "\n",
       "                                      country rating  \\\n",
       "3191                          [United States]      R   \n",
       "1547  [United States, Canada, United Kingdom]  PG-13   \n",
       "1877                          [United States]      R   \n",
       "2990                          [United States]      R   \n",
       "1323                          [United States]      R   \n",
       "5089                          [United States]      R   \n",
       "\n",
       "                                         listed_in  \\\n",
       "3191                      Horror Movies, Thrillers   \n",
       "1547                      Horror Movies, Thrillers   \n",
       "1877                                     Thrillers   \n",
       "2990  Horror Movies, Independent Movies, Thrillers   \n",
       "1323                      Horror Movies, Thrillers   \n",
       "5089                      Horror Movies, Thrillers   \n",
       "\n",
       "                                            description  sim_score  \n",
       "3191  Based on true events, this spine-chiller tells...   1.000000  \n",
       "1547  Hoping to leave their haunted house behind, a ...   0.603023  \n",
       "1877  Obsessed with an unsolved murder case, a crime...   0.589256  \n",
       "2990  When a cash-strapped videographer takes a job ...   0.555556  \n",
       "1323  At the end of their low-budget tour, a punk ba...   0.555556  \n",
       "5089  A group of kids takes an illegal tour through ...   0.555556  "
      ]
     },
     "execution_count": 45,
     "metadata": {},
     "output_type": "execute_result"
    }
   ],
   "source": [
    "suggest_movies('The Conjuring')"
   ]
  },
  {
   "cell_type": "code",
   "execution_count": 46,
   "id": "6275198a",
   "metadata": {},
   "outputs": [
    {
     "data": {
      "text/html": [
       "<div>\n",
       "<style scoped>\n",
       "    .dataframe tbody tr th:only-of-type {\n",
       "        vertical-align: middle;\n",
       "    }\n",
       "\n",
       "    .dataframe tbody tr th {\n",
       "        vertical-align: top;\n",
       "    }\n",
       "\n",
       "    .dataframe thead th {\n",
       "        text-align: right;\n",
       "    }\n",
       "</style>\n",
       "<table border=\"1\" class=\"dataframe\">\n",
       "  <thead>\n",
       "    <tr style=\"text-align: right;\">\n",
       "      <th></th>\n",
       "      <th>type</th>\n",
       "      <th>title</th>\n",
       "      <th>director</th>\n",
       "      <th>cast</th>\n",
       "      <th>country</th>\n",
       "      <th>rating</th>\n",
       "      <th>listed_in</th>\n",
       "      <th>description</th>\n",
       "      <th>sim_score</th>\n",
       "    </tr>\n",
       "  </thead>\n",
       "  <tbody>\n",
       "    <tr>\n",
       "      <th>1691</th>\n",
       "      <td>Movie</td>\n",
       "      <td>Laatu</td>\n",
       "      <td>[Manav Shah]</td>\n",
       "      <td>[Gagan Kokri, Aditi Sharma, Karamjit Anmol, Sa...</td>\n",
       "      <td>[India]</td>\n",
       "      <td>TV-Y7</td>\n",
       "      <td>Comedies, Dramas, International Movies</td>\n",
       "      <td>A man who hopes to bring light to his village ...</td>\n",
       "      <td>1.000000</td>\n",
       "    </tr>\n",
       "    <tr>\n",
       "      <th>905</th>\n",
       "      <td>Movie</td>\n",
       "      <td>Sat Shri Akaal England</td>\n",
       "      <td>[Vikram Pradhan]</td>\n",
       "      <td>[Ammy Virk, Monica Gill, Karamjit Anmol, Sarda...</td>\n",
       "      <td>[India]</td>\n",
       "      <td>TV-14</td>\n",
       "      <td>Comedies, Dramas, International Movies</td>\n",
       "      <td>After several failed attempts to obtain a visa...</td>\n",
       "      <td>0.600000</td>\n",
       "    </tr>\n",
       "    <tr>\n",
       "      <th>884</th>\n",
       "      <td>Movie</td>\n",
       "      <td>Manje Bistre</td>\n",
       "      <td>[Baljit Singh Deo]</td>\n",
       "      <td>[Gippy Grewal, Sonam Bajwa, Karamjit Anmol, Ja...</td>\n",
       "      <td>[India]</td>\n",
       "      <td>TV-PG</td>\n",
       "      <td>Comedies, Dramas, International Movies</td>\n",
       "      <td>While prepping for a family wedding, a young m...</td>\n",
       "      <td>0.600000</td>\n",
       "    </tr>\n",
       "    <tr>\n",
       "      <th>2194</th>\n",
       "      <td>Movie</td>\n",
       "      <td>Chal Dhar Pakad</td>\n",
       "      <td>[Aatmaram Dharne]</td>\n",
       "      <td>[Nagesh Bhonsle]</td>\n",
       "      <td>[India]</td>\n",
       "      <td>TV-14</td>\n",
       "      <td>Comedies, Dramas, International Movies</td>\n",
       "      <td>After her fat-shaming husband brings home a ne...</td>\n",
       "      <td>0.559017</td>\n",
       "    </tr>\n",
       "  </tbody>\n",
       "</table>\n",
       "</div>"
      ],
      "text/plain": [
       "       type                   title            director  \\\n",
       "1691  Movie                   Laatu        [Manav Shah]   \n",
       "905   Movie  Sat Shri Akaal England    [Vikram Pradhan]   \n",
       "884   Movie            Manje Bistre  [Baljit Singh Deo]   \n",
       "2194  Movie         Chal Dhar Pakad   [Aatmaram Dharne]   \n",
       "\n",
       "                                                   cast  country rating  \\\n",
       "1691  [Gagan Kokri, Aditi Sharma, Karamjit Anmol, Sa...  [India]  TV-Y7   \n",
       "905   [Ammy Virk, Monica Gill, Karamjit Anmol, Sarda...  [India]  TV-14   \n",
       "884   [Gippy Grewal, Sonam Bajwa, Karamjit Anmol, Ja...  [India]  TV-PG   \n",
       "2194                                   [Nagesh Bhonsle]  [India]  TV-14   \n",
       "\n",
       "                                   listed_in  \\\n",
       "1691  Comedies, Dramas, International Movies   \n",
       "905   Comedies, Dramas, International Movies   \n",
       "884   Comedies, Dramas, International Movies   \n",
       "2194  Comedies, Dramas, International Movies   \n",
       "\n",
       "                                            description  sim_score  \n",
       "1691  A man who hopes to bring light to his village ...   1.000000  \n",
       "905   After several failed attempts to obtain a visa...   0.600000  \n",
       "884   While prepping for a family wedding, a young m...   0.600000  \n",
       "2194  After her fat-shaming husband brings home a ne...   0.559017  "
      ]
     },
     "execution_count": 46,
     "metadata": {},
     "output_type": "execute_result"
    }
   ],
   "source": [
    "suggest_movies('Laatu',3)"
   ]
  },
  {
   "cell_type": "markdown",
   "id": "1430acb2",
   "metadata": {},
   "source": [
    "## Question II: Which directors participated in acting in their movies? Observe and give comment on the ratio between the TV Shows and Movies that top 10 director makes and stars the most."
   ]
  },
  {
   "cell_type": "markdown",
   "id": "e5f23c32",
   "metadata": {},
   "source": [
    "By answer this question, we will have a statistics of actors that become directors popularity"
   ]
  },
  {
   "cell_type": "code",
   "execution_count": 47,
   "id": "eee41a75",
   "metadata": {},
   "outputs": [
    {
     "name": "stdout",
     "output_type": "stream",
     "text": [
      "There are 253 movies with directors played an acting role in.\n"
     ]
    },
    {
     "data": {
      "text/html": [
       "<div>\n",
       "<style scoped>\n",
       "    .dataframe tbody tr th:only-of-type {\n",
       "        vertical-align: middle;\n",
       "    }\n",
       "\n",
       "    .dataframe tbody tr th {\n",
       "        vertical-align: top;\n",
       "    }\n",
       "\n",
       "    .dataframe thead th {\n",
       "        text-align: right;\n",
       "    }\n",
       "</style>\n",
       "<table border=\"1\" class=\"dataframe\">\n",
       "  <thead>\n",
       "    <tr style=\"text-align: right;\">\n",
       "      <th></th>\n",
       "      <th>type</th>\n",
       "      <th>title</th>\n",
       "      <th>director</th>\n",
       "      <th>country</th>\n",
       "      <th>title_postfix</th>\n",
       "      <th>title_prefix</th>\n",
       "      <th>cast</th>\n",
       "      <th>min</th>\n",
       "      <th>season</th>\n",
       "      <th>listed_in_array</th>\n",
       "    </tr>\n",
       "  </thead>\n",
       "  <tbody>\n",
       "    <tr>\n",
       "      <th>4122</th>\n",
       "      <td>Movie</td>\n",
       "      <td>Mowgli: Legend of the Jungle</td>\n",
       "      <td>[Andy Serkis]</td>\n",
       "      <td>[United Kingdom, United States]</td>\n",
       "      <td>Legend of the Jungle</td>\n",
       "      <td>Mowgli</td>\n",
       "      <td>[Christian Bale, Cate Blanchett, Benedict Cumb...</td>\n",
       "      <td>105</td>\n",
       "      <td>&lt;NA&gt;</td>\n",
       "      <td>[Action &amp; Adventure, Children &amp; Family Movies,...</td>\n",
       "    </tr>\n",
       "    <tr>\n",
       "      <th>430</th>\n",
       "      <td>Movie</td>\n",
       "      <td>The Water Diviner</td>\n",
       "      <td>[Russell Crowe]</td>\n",
       "      <td>[Australia, United States]</td>\n",
       "      <td>NaN</td>\n",
       "      <td>The Water Diviner</td>\n",
       "      <td>[Russell Crowe, Olga Kurylenko, Yılmaz Erdoğan...</td>\n",
       "      <td>111</td>\n",
       "      <td>&lt;NA&gt;</td>\n",
       "      <td>[Dramas, International Movies]</td>\n",
       "    </tr>\n",
       "    <tr>\n",
       "      <th>3920</th>\n",
       "      <td>Movie</td>\n",
       "      <td>Rocky Handsome</td>\n",
       "      <td>[Nishikant Kamat]</td>\n",
       "      <td>[India]</td>\n",
       "      <td>NaN</td>\n",
       "      <td>Rocky Handsome</td>\n",
       "      <td>[John Abraham, Diya Chalwad, Shruti Haasan, Ni...</td>\n",
       "      <td>119</td>\n",
       "      <td>&lt;NA&gt;</td>\n",
       "      <td>[Action &amp; Adventure, International Movies]</td>\n",
       "    </tr>\n",
       "    <tr>\n",
       "      <th>4291</th>\n",
       "      <td>Movie</td>\n",
       "      <td>Anesthesia</td>\n",
       "      <td>[Tim Blake Nelson]</td>\n",
       "      <td>[United States]</td>\n",
       "      <td>NaN</td>\n",
       "      <td>Anesthesia</td>\n",
       "      <td>[Sam Waterston, Tim Blake Nelson, Jessica Hech...</td>\n",
       "      <td>90</td>\n",
       "      <td>&lt;NA&gt;</td>\n",
       "      <td>[Dramas, Independent Movies]</td>\n",
       "    </tr>\n",
       "    <tr>\n",
       "      <th>4549</th>\n",
       "      <td>Movie</td>\n",
       "      <td>Under an Arctic Sky</td>\n",
       "      <td>[Chris Burkard]</td>\n",
       "      <td>[United States]</td>\n",
       "      <td>NaN</td>\n",
       "      <td>Under an Arctic Sky</td>\n",
       "      <td>[Chris Burkard, Sam Hammer, Heidar Logi, Elli ...</td>\n",
       "      <td>40</td>\n",
       "      <td>&lt;NA&gt;</td>\n",
       "      <td>[Action &amp; Adventure, Documentaries, Sports Mov...</td>\n",
       "    </tr>\n",
       "  </tbody>\n",
       "</table>\n",
       "</div>"
      ],
      "text/plain": [
       "       type                         title            director  \\\n",
       "4122  Movie  Mowgli: Legend of the Jungle       [Andy Serkis]   \n",
       "430   Movie             The Water Diviner     [Russell Crowe]   \n",
       "3920  Movie                Rocky Handsome   [Nishikant Kamat]   \n",
       "4291  Movie                    Anesthesia  [Tim Blake Nelson]   \n",
       "4549  Movie           Under an Arctic Sky     [Chris Burkard]   \n",
       "\n",
       "                              country          title_postfix  \\\n",
       "4122  [United Kingdom, United States]   Legend of the Jungle   \n",
       "430        [Australia, United States]                    NaN   \n",
       "3920                          [India]                    NaN   \n",
       "4291                  [United States]                    NaN   \n",
       "4549                  [United States]                    NaN   \n",
       "\n",
       "             title_prefix                                               cast  \\\n",
       "4122               Mowgli  [Christian Bale, Cate Blanchett, Benedict Cumb...   \n",
       "430     The Water Diviner  [Russell Crowe, Olga Kurylenko, Yılmaz Erdoğan...   \n",
       "3920       Rocky Handsome  [John Abraham, Diya Chalwad, Shruti Haasan, Ni...   \n",
       "4291           Anesthesia  [Sam Waterston, Tim Blake Nelson, Jessica Hech...   \n",
       "4549  Under an Arctic Sky  [Chris Burkard, Sam Hammer, Heidar Logi, Elli ...   \n",
       "\n",
       "      min  season                                    listed_in_array  \n",
       "4122  105    <NA>  [Action & Adventure, Children & Family Movies,...  \n",
       "430   111    <NA>                     [Dramas, International Movies]  \n",
       "3920  119    <NA>         [Action & Adventure, International Movies]  \n",
       "4291   90    <NA>                       [Dramas, Independent Movies]  \n",
       "4549   40    <NA>  [Action & Adventure, Documentaries, Sports Mov...  "
      ]
     },
     "execution_count": 47,
     "metadata": {},
     "output_type": "execute_result"
    }
   ],
   "source": [
    "# List of movies with directors played an acting role in.\n",
    "director_act = df_movies.loc[:,['director','cast']]\\\n",
    "         .apply(lambda x: any(director in x.loc['cast'] for director in x.loc['director']) \\\n",
    "                if len(x.loc['director']) > 0 else False,axis=1)\n",
    "\n",
    "print(f\"There are {np.sum(director_act)} movies with directors played an acting role in.\")\n",
    "\n",
    "list_df = df_movies.loc[director_act,\n",
    "              ['type', 'title', 'director', 'country','title_postfix', 'title_prefix', 'cast', 'min', 'season','listed_in_array']]\n",
    "list_df.sample(5)"
   ]
  },
  {
   "cell_type": "code",
   "execution_count": 48,
   "id": "dd6fd3f2",
   "metadata": {},
   "outputs": [
    {
     "data": {
      "image/png": "[encoded data removed]",
      "text/plain": [
       "<Figure size 1080x360 with 1 Axes>"
      ]
     },
     "metadata": {},
     "output_type": "display_data"
    }
   ],
   "source": [
    "# Movie type that directors star in\n",
    "type_df = pd.DataFrame(list_df['type'].value_counts())\n",
    "ax = type_df.plot(kind='pie', legend=True, title='Movie type that directors featured in', \n",
    "                     subplots=True,autopct='%1.2f%%', figsize=(15,5), ylabel='')\n",
    "\n",
    "plt.show()"
   ]
  },
  {
   "cell_type": "markdown",
   "id": "3a9bad71",
   "metadata": {},
   "source": [
    "Director tend to star in <code>movie</code> more than <code>TV show</code>"
   ]
  },
  {
   "cell_type": "code",
   "execution_count": 49,
   "id": "ee0535cc",
   "metadata": {},
   "outputs": [
    {
     "name": "stdout",
     "output_type": "stream",
     "text": [
      "There are 273 on total of 3655 have participated in acting in their own films, equivalent to a rate of 7.47%\n",
      "\n",
      "Top 10 directors participated in acting in their own movie, sort by movie count\n"
     ]
    },
    {
     "data": {
      "text/html": [
       "<style type=\"text/css\">\n",
       "</style>\n",
       "<table id=\"T_db0f5_\">\n",
       "  <thead>\n",
       "    <tr>\n",
       "      <th class=\"col_heading level0 col0\" >Name</th>\n",
       "      <th class=\"col_heading level0 col1\" >Movie_count</th>\n",
       "    </tr>\n",
       "  </thead>\n",
       "  <tbody>\n",
       "    <tr>\n",
       "      <td id=\"T_db0f5_row0_col0\" class=\"data row0 col0\" >Yılmaz Erdoğan</td>\n",
       "      <td id=\"T_db0f5_row0_col1\" class=\"data row0 col1\" >6</td>\n",
       "    </tr>\n",
       "    <tr>\n",
       "      <td id=\"T_db0f5_row1_col0\" class=\"data row1 col0\" >Omoni Oboli</td>\n",
       "      <td id=\"T_db0f5_row1_col1\" class=\"data row1 col1\" >5</td>\n",
       "    </tr>\n",
       "    <tr>\n",
       "      <td id=\"T_db0f5_row2_col0\" class=\"data row2 col0\" >Robb Wells</td>\n",
       "      <td id=\"T_db0f5_row2_col1\" class=\"data row2 col1\" >5</td>\n",
       "    </tr>\n",
       "    <tr>\n",
       "      <td id=\"T_db0f5_row3_col0\" class=\"data row3 col0\" >John Paul Tremblay</td>\n",
       "      <td id=\"T_db0f5_row3_col1\" class=\"data row3 col1\" >5</td>\n",
       "    </tr>\n",
       "    <tr>\n",
       "      <td id=\"T_db0f5_row4_col0\" class=\"data row4 col0\" >Mike Smith</td>\n",
       "      <td id=\"T_db0f5_row4_col1\" class=\"data row4 col1\" >5</td>\n",
       "    </tr>\n",
       "    <tr>\n",
       "      <td id=\"T_db0f5_row5_col0\" class=\"data row5 col0\" >Cem Yılmaz</td>\n",
       "      <td id=\"T_db0f5_row5_col1\" class=\"data row5 col1\" >3</td>\n",
       "    </tr>\n",
       "    <tr>\n",
       "      <td id=\"T_db0f5_row6_col0\" class=\"data row6 col0\" >Ricky Gervais</td>\n",
       "      <td id=\"T_db0f5_row6_col1\" class=\"data row6 col1\" >3</td>\n",
       "    </tr>\n",
       "    <tr>\n",
       "      <td id=\"T_db0f5_row7_col0\" class=\"data row7 col0\" >Sylvester Stallone</td>\n",
       "      <td id=\"T_db0f5_row7_col1\" class=\"data row7 col1\" >3</td>\n",
       "    </tr>\n",
       "    <tr>\n",
       "      <td id=\"T_db0f5_row8_col0\" class=\"data row8 col0\" >Sermiyan Midyat</td>\n",
       "      <td id=\"T_db0f5_row8_col1\" class=\"data row8 col1\" >3</td>\n",
       "    </tr>\n",
       "    <tr>\n",
       "      <td id=\"T_db0f5_row9_col0\" class=\"data row9 col0\" >Louis C.K.</td>\n",
       "      <td id=\"T_db0f5_row9_col1\" class=\"data row9 col1\" >3</td>\n",
       "    </tr>\n",
       "  </tbody>\n",
       "</table>\n"
      ],
      "text/plain": [
       "<pandas.io.formats.style.Styler at 0x27379d3deb0>"
      ]
     },
     "execution_count": 49,
     "metadata": {},
     "output_type": "execute_result"
    }
   ],
   "source": [
    "# List of top directors that are actors\n",
    "list_director, count_director = np.unique(np.sum(list_df['director']),return_counts=True)\n",
    "\n",
    "director_df = pd.DataFrame(data=list(zip(list_director, count_director)),columns=['Name','Movie_count'])\\\n",
    "                .sort_values(by=['Movie_count'], ascending=False)\n",
    "\n",
    "number_director_cast = len(list_director)\n",
    "number_all_director = len(np.unique(df_movies.loc[:,'director'].sum()))\n",
    "print(f\"There are {number_director_cast} on total of {number_all_director} have participated in acting in their own films,\\\n",
    " equivalent to a rate of {np.round(number_director_cast / number_all_director *100,decimals=2)}%\")\n",
    "\n",
    "top_10_director = director_df.head(10).style.hide_index()\n",
    "\n",
    "print(f'\\nTop 10 directors participated in acting in their own movie, sort by movie count')\n",
    "top_10_director"
   ]
  },
  {
   "cell_type": "code",
   "execution_count": 50,
   "id": "babe8f9b",
   "metadata": {},
   "outputs": [
    {
     "data": {
      "text/html": [
       "<div>\n",
       "<style scoped>\n",
       "    .dataframe tbody tr th:only-of-type {\n",
       "        vertical-align: middle;\n",
       "    }\n",
       "\n",
       "    .dataframe tbody tr th {\n",
       "        vertical-align: top;\n",
       "    }\n",
       "\n",
       "    .dataframe thead th {\n",
       "        text-align: right;\n",
       "    }\n",
       "</style>\n",
       "<table border=\"1\" class=\"dataframe\">\n",
       "  <thead>\n",
       "    <tr style=\"text-align: right;\">\n",
       "      <th>type</th>\n",
       "      <th>Movie</th>\n",
       "      <th>TV Show</th>\n",
       "    </tr>\n",
       "    <tr>\n",
       "      <th>director</th>\n",
       "      <th></th>\n",
       "      <th></th>\n",
       "    </tr>\n",
       "  </thead>\n",
       "  <tbody>\n",
       "    <tr>\n",
       "      <th>Yılmaz Erdoğan</th>\n",
       "      <td>6</td>\n",
       "      <td>0</td>\n",
       "    </tr>\n",
       "    <tr>\n",
       "      <th>Omoni Oboli</th>\n",
       "      <td>5</td>\n",
       "      <td>0</td>\n",
       "    </tr>\n",
       "    <tr>\n",
       "      <th>John Paul Tremblay</th>\n",
       "      <td>4</td>\n",
       "      <td>1</td>\n",
       "    </tr>\n",
       "    <tr>\n",
       "      <th>Mike Smith</th>\n",
       "      <td>4</td>\n",
       "      <td>1</td>\n",
       "    </tr>\n",
       "    <tr>\n",
       "      <th>Robb Wells</th>\n",
       "      <td>4</td>\n",
       "      <td>1</td>\n",
       "    </tr>\n",
       "    <tr>\n",
       "      <th>Note Chern-Yim</th>\n",
       "      <td>3</td>\n",
       "      <td>0</td>\n",
       "    </tr>\n",
       "    <tr>\n",
       "      <th>Sylvester Stallone</th>\n",
       "      <td>3</td>\n",
       "      <td>0</td>\n",
       "    </tr>\n",
       "    <tr>\n",
       "      <th>Cem Yılmaz</th>\n",
       "      <td>3</td>\n",
       "      <td>0</td>\n",
       "    </tr>\n",
       "    <tr>\n",
       "      <th>Sermiyan Midyat</th>\n",
       "      <td>3</td>\n",
       "      <td>0</td>\n",
       "    </tr>\n",
       "    <tr>\n",
       "      <th>Kunle Afolayan</th>\n",
       "      <td>3</td>\n",
       "      <td>0</td>\n",
       "    </tr>\n",
       "  </tbody>\n",
       "</table>\n",
       "</div>"
      ],
      "text/plain": [
       "type                Movie  TV Show\n",
       "director                          \n",
       "Yılmaz Erdoğan          6        0\n",
       "Omoni Oboli             5        0\n",
       "John Paul Tremblay      4        1\n",
       "Mike Smith              4        1\n",
       "Robb Wells              4        1\n",
       "Note Chern-Yim          3        0\n",
       "Sylvester Stallone      3        0\n",
       "Cem Yılmaz              3        0\n",
       "Sermiyan Midyat         3        0\n",
       "Kunle Afolayan          3        0"
      ]
     },
     "execution_count": 50,
     "metadata": {},
     "output_type": "execute_result"
    }
   ],
   "source": [
    "# Observe by movie type\n",
    "director_by_type_list = list_df.explode('director').groupby(['director', 'type']).size().unstack(fill_value=0)\n",
    "director_by_type_list = director_by_type_list.sort_values(by=['Movie'], ascending=False)\n",
    "\n",
    "director_by_type_list.head(10)"
   ]
  },
  {
   "cell_type": "markdown",
   "id": "1a65d1c5",
   "metadata": {},
   "source": [
    "<li>There are directors who work on both feature films and TV series, but they tend to produce more feature films, perhaps because theatrical releases generate higher revenue</li>\n",
    "<li>Most directors are American, Canadian, England, Indonesian althoguh most movies original from American and Indian, account up to around 60% but not so many are both actors and directors</li>"
   ]
  },
  {
   "cell_type": "markdown",
   "id": "85003329",
   "metadata": {},
   "source": [
    "## Question III: Create visualization illustrating the number of movies produced by each country over the years. Provide insight on the trends observed in film production."
   ]
  },
  {
   "cell_type": "markdown",
   "id": "3f80a33e",
   "metadata": {},
   "source": [
    "The visualization will focus specifically on the top 10 countries that have produced the highest number of movies"
   ]
  },
  {
   "cell_type": "code",
   "execution_count": 51,
   "id": "3810a091",
   "metadata": {},
   "outputs": [
    {
     "data": {
      "text/html": [
       "<div>\n",
       "<style scoped>\n",
       "    .dataframe tbody tr th:only-of-type {\n",
       "        vertical-align: middle;\n",
       "    }\n",
       "\n",
       "    .dataframe tbody tr th {\n",
       "        vertical-align: top;\n",
       "    }\n",
       "\n",
       "    .dataframe thead th {\n",
       "        text-align: right;\n",
       "    }\n",
       "</style>\n",
       "<table border=\"1\" class=\"dataframe\">\n",
       "  <thead>\n",
       "    <tr style=\"text-align: right;\">\n",
       "      <th></th>\n",
       "      <th>Country</th>\n",
       "      <th>Movie_count</th>\n",
       "    </tr>\n",
       "  </thead>\n",
       "  <tbody>\n",
       "    <tr>\n",
       "      <th>105</th>\n",
       "      <td>United States</td>\n",
       "      <td>2609</td>\n",
       "    </tr>\n",
       "    <tr>\n",
       "      <th>38</th>\n",
       "      <td>India</td>\n",
       "      <td>838</td>\n",
       "    </tr>\n",
       "    <tr>\n",
       "      <th>103</th>\n",
       "      <td>United Kingdom</td>\n",
       "      <td>601</td>\n",
       "    </tr>\n",
       "    <tr>\n",
       "      <th>14</th>\n",
       "      <td>Canada</td>\n",
       "      <td>318</td>\n",
       "    </tr>\n",
       "    <tr>\n",
       "      <th>29</th>\n",
       "      <td>France</td>\n",
       "      <td>271</td>\n",
       "    </tr>\n",
       "    <tr>\n",
       "      <th>45</th>\n",
       "      <td>Japan</td>\n",
       "      <td>231</td>\n",
       "    </tr>\n",
       "    <tr>\n",
       "      <th>91</th>\n",
       "      <td>Spain</td>\n",
       "      <td>178</td>\n",
       "    </tr>\n",
       "    <tr>\n",
       "      <th>89</th>\n",
       "      <td>South Korea</td>\n",
       "      <td>162</td>\n",
       "    </tr>\n",
       "    <tr>\n",
       "      <th>31</th>\n",
       "      <td>Germany</td>\n",
       "      <td>151</td>\n",
       "    </tr>\n",
       "    <tr>\n",
       "      <th>58</th>\n",
       "      <td>Mexico</td>\n",
       "      <td>129</td>\n",
       "    </tr>\n",
       "  </tbody>\n",
       "</table>\n",
       "</div>"
      ],
      "text/plain": [
       "            Country  Movie_count\n",
       "105   United States         2609\n",
       "38            India          838\n",
       "103  United Kingdom          601\n",
       "14           Canada          318\n",
       "29           France          271\n",
       "45            Japan          231\n",
       "91            Spain          178\n",
       "89      South Korea          162\n",
       "31          Germany          151\n",
       "58           Mexico          129"
      ]
     },
     "execution_count": 51,
     "metadata": {},
     "output_type": "execute_result"
    }
   ],
   "source": [
    "# Exclude movies with no country info \n",
    "is_not_nan_list_country = df_movies['country'].apply(lambda x: True if x != ['nan'] else False)\n",
    "\n",
    "# Count movie produced per country\n",
    "list_country, count_country = np.unique(np.sum(df_movies.loc[is_not_nan_list_country,'country']),return_counts=True)\n",
    "\n",
    "country_df = pd.DataFrame(data=list(zip(list_country, count_country)),columns=['Country','Movie_count'])\\\n",
    "                .sort_values(by=['Movie_count'], ascending=False)\n",
    "\n",
    "# Top 10 countries produce the most movies\n",
    "top_10_country = country_df.head(10)##.style.hide_index()\n",
    "\n",
    "top_10_country"
   ]
  },
  {
   "cell_type": "code",
   "execution_count": 52,
   "id": "1d6f3f03",
   "metadata": {},
   "outputs": [
    {
     "data": {
      "image/png": "[encoded data removed]",
      "text/plain": [
       "<Figure size 1080x360 with 1 Axes>"
      ]
     },
     "metadata": {},
     "output_type": "display_data"
    }
   ],
   "source": [
    "## Create data for chart\n",
    "netflix_df_all = df_movies.loc[:,['country','release_year']].explode('country')\\\n",
    "                    .groupby(['release_year', 'country']).size().unstack(fill_value=0)\\\n",
    "                        .loc[:,top_10_country.loc[:,'Country']]\n",
    "netflix_df_all = netflix_df_all.fillna(value=0).astype(np.int32)\n",
    "perc_df = netflix_df_all.divide(netflix_df_all.sum(axis=1), axis=0)\n",
    "\n",
    "## Import se\n",
    "sns.set_theme()\n",
    "\n",
    "## Create area plot\n",
    "ax = perc_df.plot(kind='area', stacked=True, title='Percent movies made over years', \n",
    "                    figsize=(15,5), alpha=0.6, sharex=True )\n",
    "\n",
    "## Set labels\n",
    "ax.set_ylabel('Percent movie made (%)')\n",
    "ax.set_xlabel('Release_year')\n",
    "ax.margins(0, 0)\n",
    "\n",
    "plt.show()"
   ]
  },
  {
   "cell_type": "code",
   "execution_count": 53,
   "id": "9aa5e50e",
   "metadata": {},
   "outputs": [
    {
     "data": {
      "text/html": [
       "<div>\n",
       "<style scoped>\n",
       "    .dataframe tbody tr th:only-of-type {\n",
       "        vertical-align: middle;\n",
       "    }\n",
       "\n",
       "    .dataframe tbody tr th {\n",
       "        vertical-align: top;\n",
       "    }\n",
       "\n",
       "    .dataframe thead th {\n",
       "        text-align: right;\n",
       "    }\n",
       "</style>\n",
       "<table border=\"1\" class=\"dataframe\">\n",
       "  <thead>\n",
       "    <tr style=\"text-align: right;\">\n",
       "      <th>country</th>\n",
       "      <th>United States</th>\n",
       "      <th>India</th>\n",
       "      <th>United Kingdom</th>\n",
       "      <th>Canada</th>\n",
       "      <th>France</th>\n",
       "      <th>Japan</th>\n",
       "      <th>Spain</th>\n",
       "      <th>South Korea</th>\n",
       "      <th>Germany</th>\n",
       "      <th>Mexico</th>\n",
       "    </tr>\n",
       "    <tr>\n",
       "      <th>release_year</th>\n",
       "      <th></th>\n",
       "      <th></th>\n",
       "      <th></th>\n",
       "      <th></th>\n",
       "      <th></th>\n",
       "      <th></th>\n",
       "      <th></th>\n",
       "      <th></th>\n",
       "      <th></th>\n",
       "      <th></th>\n",
       "    </tr>\n",
       "  </thead>\n",
       "  <tbody>\n",
       "    <tr>\n",
       "      <th>1970</th>\n",
       "      <td>0</td>\n",
       "      <td>0</td>\n",
       "      <td>0</td>\n",
       "      <td>0</td>\n",
       "      <td>0</td>\n",
       "      <td>0</td>\n",
       "      <td>0</td>\n",
       "      <td>0</td>\n",
       "      <td>0</td>\n",
       "      <td>0</td>\n",
       "    </tr>\n",
       "  </tbody>\n",
       "</table>\n",
       "</div>"
      ],
      "text/plain": [
       "country       United States  India  United Kingdom  Canada  France  Japan  \\\n",
       "release_year                                                                \n",
       "1970                      0      0               0       0       0      0   \n",
       "\n",
       "country       Spain  South Korea  Germany  Mexico  \n",
       "release_year                                       \n",
       "1970              0            0        0       0  "
      ]
     },
     "execution_count": 53,
     "metadata": {},
     "output_type": "execute_result"
    }
   ],
   "source": [
    "netflix_df_all.loc[[1970]]"
   ]
  },
  {
   "cell_type": "code",
   "execution_count": 54,
   "id": "817a926e",
   "metadata": {},
   "outputs": [
    {
     "data": {
      "image/png": "[encoded data removed]",
      "text/plain": [
       "<Figure size 432x288 with 1 Axes>"
      ]
     },
     "metadata": {},
     "output_type": "display_data"
    }
   ],
   "source": [
    "sum_movie = netflix_df_all.sum(axis=1)\n",
    "\n",
    "# Create a line plot\n",
    "plt.plot(sum_movie.index, sum_movie)\n",
    "\n",
    "# Add labels and title\n",
    "plt.xlabel('Release_year')\n",
    "plt.ylabel('Sum movie made')\n",
    "plt.title('Total movies made over years')\n",
    "\n",
    "# Show the plot\n",
    "plt.show()"
   ]
  },
  {
   "cell_type": "markdown",
   "id": "da4f8179",
   "metadata": {},
   "source": [
    "Most movies were produced by The United States, following by Indian. These two alone take up to half of the movie produced\n",
    "There is a no movie produced in 1970, caused a blank in the stacked chart. However this could be of coincidence that the dataset do not contain any movie produced in 1970, since the 70s was the era movie industry thrived.\n",
    "\n",
    "Starting from the 80s, Asian market started to developed and produced more movies. However there is no China in the top 10 although the actual released movies from this country should be high. This could be affect by other elements such as politic, taste and country focus.\n",
    "\n",
    "From the years of 2000s, the movie industry developed rapidly, an overwhelming number of new movies got released."
   ]
  },
  {
   "cell_type": "code",
   "execution_count": 56,
   "id": "b400d70d",
   "metadata": {},
   "outputs": [
    {
     "data": {
      "image/png": "[encoded data removed]",
      "text/plain": [
       "<Figure size 1080x1800 with 10 Axes>"
      ]
     },
     "metadata": {},
     "output_type": "display_data"
    }
   ],
   "source": [
    "## Check on top 10 countries produced the most movies\n",
    "netflix_df_stacked = pd.DataFrame(netflix_df_all.stack(0)).reset_index()\n",
    "netflix_df_stacked.columns = ['Year','Country','Films']\n",
    "netflix_df_stacked\n",
    "\n",
    "# Create grid\n",
    "gr = sns.FacetGrid(netflix_df_stacked, col='Country', hue='Country', col_wrap=2, height=5, aspect=1.5)\n",
    "\n",
    "# Draw graph\n",
    "gr = gr.map(plt.plot, 'Year', 'Films')\n",
    "\n",
    "gr = gr.map(plt.fill_between, 'Year', 'Films', alpha=0.4)\n",
    " \n",
    "# Labelling\n",
    "gr = gr.set_titles(\"{col_name}\")\n",
    "gr = gr.set_ylabels(\"Total movies made over years\")\n",
    "gr = gr.set_xlabels(\"Year\")\n",
    "\n",
    "# Naming charts\n",
    "plt.subplots_adjust(top=0.94)\n",
    "gr = gr.fig.suptitle('Total movies made over years in top 10 produced countries')\n",
    "\n",
    "plt.show()"
   ]
  },
  {
   "cell_type": "markdown",
   "id": "58a5685a",
   "metadata": {},
   "source": [
    "Leave alone the year 2020 for incomplete data collecting, we can tell there is a trend across countries that is since 2010, movie industry started releasing more and more movies\n",
    "Around 2019, number of movie produced slightly decrease, could be of the affect of pandemic\n",
    "As Netflix main market is at the US, the high percent of added movies originally from the US could be to satisfy the customer's taste here"
   ]
  }
 ],
 "metadata": {
  "kernelspec": {
   "display_name": "Python 3 (ipykernel)",
   "language": "python",
   "name": "python3"
  },
  "language_info": {
   "codemirror_mode": {
    "name": "ipython",
    "version": 3
   },
   "file_extension": ".py",
   "mimetype": "text/x-python",
   "name": "python",
   "nbconvert_exporter": "python",
   "pygments_lexer": "ipython3",
   "version": "3.9.7"
  }
 },
 "nbformat": 4,
 "nbformat_minor": 5
}
